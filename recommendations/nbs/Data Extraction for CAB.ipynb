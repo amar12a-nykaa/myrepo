{
 "cells": [
  {
   "cell_type": "markdown",
   "metadata": {},
   "source": [
    "# DATA Extraction"
   ]
  },
  {
   "cell_type": "code",
   "execution_count": 1,
   "metadata": {},
   "outputs": [
    {
     "name": "stderr",
     "output_type": "stream",
     "text": [
      "/home/ubuntu/anaconda3/lib/python3.6/site-packages/matplotlib/__init__.py:1067: UserWarning: Duplicate key in file \"/home/ubuntu/.config/matplotlib/matplotlibrc\", line #2\n",
      "  (fname, cnt))\n",
      "/home/ubuntu/anaconda3/lib/python3.6/site-packages/matplotlib/__init__.py:1067: UserWarning: Duplicate key in file \"/home/ubuntu/.config/matplotlib/matplotlibrc\", line #3\n",
      "  (fname, cnt))\n"
     ]
    }
   ],
   "source": [
    "import os\n",
    "from collections import defaultdict\n",
    "import sys\n",
    "import time\n",
    "import json\n",
    "import psutil\n",
    "import argparse\n",
    "import operator\n",
    "import pandas as pd\n",
    "\n",
    "sys.path.append(\"/home/apis/nykaa\")\n",
    "from pas.v2.utils import Utils\n",
    "sys.path.append('/home/ubuntu/nykaa_scripts/utils')\n",
    "import pandasutils"
   ]
  },
  {
   "cell_type": "code",
   "execution_count": 2,
   "metadata": {},
   "outputs": [],
   "source": [
    "nykaadb = Utils.redshiftConnection()\n",
    "cursor = nykaadb.cursor()"
   ]
  },
  {
   "cell_type": "markdown",
   "metadata": {},
   "source": [
    "Query for Extracting data with limit"
   ]
  },
  {
   "cell_type": "code",
   "execution_count": null,
   "metadata": {},
   "outputs": [],
   "source": [
    "customer_orders_query_with_limit = \"SELECT sfoi.order_id, sfo.customer_id, sfoi.product_id, sfoi.product_type, sfoi.name, sfo.created_at FROM sales_flat_order_item sfoi INNER JOIN sales_flat_order sfo ON sfo.entity_id=sfoi.order_id WHERE sfoi.order_id <> 0 AND sfoi.mrp > 1 AND sfoi.parent_item_id IS NULL AND sfo.customer_id IS NOT NULL LIMIT 50000;\""
   ]
  },
  {
   "cell_type": "code",
   "execution_count": null,
   "metadata": {},
   "outputs": [],
   "source": [
    "redshift_customer_orders_query_with_limit = \"SELECT fact_order_new.nykaa_orderno, fact_order_new.order_customerid, fact_order_detail_new.product_id, fact_order_detail_new.product_sku, fact_order_detail_new.sku_type, fact_order_detail_new.product_name, fact_order_detail_new.order_date from fact_order_new INNER JOIN fact_order_detail_new ON fact_order_new.nykaa_orderno=fact_order_detail_new.nykaa_orderno WHERE fact_order_new.nykaa_orderno <> 0 AND product_mrp > 1 AND order_customerid IS NOT NULL AND order_date > '2018-01-01 00:00:00'\""
   ]
  },
  {
   "cell_type": "markdown",
   "metadata": {},
   "source": [
    "Query for Extracting data without limit"
   ]
  },
  {
   "cell_type": "code",
   "execution_count": null,
   "metadata": {},
   "outputs": [],
   "source": [
    "customer_orders_query_without_limit = \"SELECT sfoi.order_id, sfo.customer_id, sfoi.product_id, sfoi.product_type, sfoi.name, sfo.created_at FROM sales_flat_order_item sfoi INNER JOIN sales_flat_order sfo ON sfo.entity_id=sfoi.order_id WHERE sfoi.order_id <> 0 AND sfoi.mrp > 1 AND sfo.customer_id IS NOT NULL;\"\n",
    "#customer_orders_query_without_limit = \"SELECT sfoi.order_id, sfo.customer_id, sfoi.product_id, sfoi.product_type, sfoi.name, sfo.created_at FROM sales_flat_order_item sfoi INNER JOIN sales_flat_order sfo ON sfo.entity_id=sfoi.order_id WHERE sfoi.order_id <> 0 AND sfoi.mrp > 1 AND sfoi.parent_item_id IS NULL AND sfo.customer_id IS NOT NULL;\""
   ]
  },
  {
   "cell_type": "code",
   "execution_count": 3,
   "metadata": {},
   "outputs": [],
   "source": [
    "redshift_customer_orders_query_without_limit = \"SELECT fact_order_new.nykaa_orderno, fact_order_new.order_customerid, fact_order_detail_new.product_id, fact_order_detail_new.product_sku, fact_order_detail_new.sku_type, fact_order_detail_new.product_name, fact_order_new.order_date from fact_order_new INNER JOIN fact_order_detail_new ON fact_order_new.nykaa_orderno=fact_order_detail_new.nykaa_orderno WHERE fact_order_new.nykaa_orderno <> 0 AND product_mrp > 1 AND order_customerid IS NOT NULL AND order_date > '2018-06-01 00:00:00'\""
   ]
  },
  {
   "cell_type": "markdown",
   "metadata": {},
   "source": [
    "Query for Extracting data from archive table"
   ]
  },
  {
   "cell_type": "code",
   "execution_count": null,
   "metadata": {},
   "outputs": [],
   "source": [
    "customer_orders_archive_query = \"SELECT sfoi.order_id, sfo.customer_id, sfoi.product_id, sfoi.product_type, sfoi.name, sfo.created_at FROM sales_flat_order_item_archive sfoi INNER JOIN sales_flat_order_archive sfo ON sfo.entity_id=sfoi.order_id WHERE sfoi.order_id <> 0 AND sfoi.mrp > 1 AND sfo.customer_id IS NOT NULL;\"\n",
    "#customer_orders_archive_query = \"SELECT sfoi.order_id, sfo.customer_id, sfoi.product_id, sfoi.product_type, sfoi.name, sfo.created_at FROM sales_flat_order_item_archive sfoi INNER JOIN sales_flat_order_archive sfo ON sfo.entity_id=sfoi.order_id WHERE sfoi.order_id <> 0 AND sfoi.mrp > 1 AND sfoi.parent_item_id IS NULL AND sfo.customer_id IS NOT NULL;\""
   ]
  },
  {
   "cell_type": "markdown",
   "metadata": {},
   "source": [
    "Dataframe for storing extracted data"
   ]
  },
  {
   "cell_type": "code",
   "execution_count": 4,
   "metadata": {},
   "outputs": [],
   "source": [
    "df = pd.DataFrame()"
   ]
  },
  {
   "cell_type": "markdown",
   "metadata": {},
   "source": [
    "Extracting data without limits"
   ]
  },
  {
   "cell_type": "code",
   "execution_count": 5,
   "metadata": {},
   "outputs": [
    {
     "data": {
      "text/plain": [
       "(25008792, 25008792)"
      ]
     },
     "execution_count": 5,
     "metadata": {},
     "output_type": "execute_result"
    }
   ],
   "source": [
    "rows = Utils.fetchResultsInBatch(Utils.redshiftConnection(), redshift_customer_orders_query_without_limit, 10000)\n",
    "df = df.append(rows)\n",
    "len(rows), len(df)"
   ]
  },
  {
   "cell_type": "code",
   "execution_count": 6,
   "metadata": {},
   "outputs": [
    {
     "data": {
      "text/html": [
       "<div>\n",
       "<style scoped>\n",
       "    .dataframe tbody tr th:only-of-type {\n",
       "        vertical-align: middle;\n",
       "    }\n",
       "\n",
       "    .dataframe tbody tr th {\n",
       "        vertical-align: top;\n",
       "    }\n",
       "\n",
       "    .dataframe thead th {\n",
       "        text-align: right;\n",
       "    }\n",
       "</style>\n",
       "<table border=\"1\" class=\"dataframe\">\n",
       "  <thead>\n",
       "    <tr style=\"text-align: right;\">\n",
       "      <th></th>\n",
       "      <th>0</th>\n",
       "      <th>1</th>\n",
       "      <th>2</th>\n",
       "      <th>3</th>\n",
       "      <th>4</th>\n",
       "      <th>5</th>\n",
       "      <th>6</th>\n",
       "    </tr>\n",
       "  </thead>\n",
       "  <tbody>\n",
       "    <tr>\n",
       "      <th>0</th>\n",
       "      <td>505181114</td>\n",
       "      <td>4655221</td>\n",
       "      <td>82288.0</td>\n",
       "      <td>NYPAC00000214</td>\n",
       "      <td>SIMPLE</td>\n",
       "      <td>PAC Intense Auto Kohl Pencil</td>\n",
       "      <td>2018-06-01 00:01:52</td>\n",
       "    </tr>\n",
       "    <tr>\n",
       "      <th>1</th>\n",
       "      <td>505181114</td>\n",
       "      <td>4655221</td>\n",
       "      <td>19750.0</td>\n",
       "      <td>8903380157956</td>\n",
       "      <td>SIMPLE</td>\n",
       "      <td>Faces Magneteyes Kajal - Lasts All Day - Black</td>\n",
       "      <td>2018-06-01 00:01:52</td>\n",
       "    </tr>\n",
       "    <tr>\n",
       "      <th>2</th>\n",
       "      <td>505181114</td>\n",
       "      <td>4655221</td>\n",
       "      <td>82287.0</td>\n",
       "      <td>NYPAC00000212</td>\n",
       "      <td>SIMPLE</td>\n",
       "      <td>PAC Longlasting Kohl Pencil</td>\n",
       "      <td>2018-06-01 00:01:52</td>\n",
       "    </tr>\n",
       "    <tr>\n",
       "      <th>3</th>\n",
       "      <td>505181114</td>\n",
       "      <td>4655221</td>\n",
       "      <td>220212.0</td>\n",
       "      <td>6928820043042</td>\n",
       "      <td>CONFIG</td>\n",
       "      <td>Garnier Skin Naturals Micellar Cleansing Water</td>\n",
       "      <td>2018-06-01 00:01:52</td>\n",
       "    </tr>\n",
       "    <tr>\n",
       "      <th>4</th>\n",
       "      <td>505181106</td>\n",
       "      <td>6271562</td>\n",
       "      <td>197278.0</td>\n",
       "      <td>8901030649653</td>\n",
       "      <td>SIMPLE</td>\n",
       "      <td>Lakme Whitening Rose Powder With Sunscreen</td>\n",
       "      <td>2018-06-01 00:02:00</td>\n",
       "    </tr>\n",
       "  </tbody>\n",
       "</table>\n",
       "</div>"
      ],
      "text/plain": [
       "           0        1         2              3       4  \\\n",
       "0  505181114  4655221   82288.0  NYPAC00000214  SIMPLE   \n",
       "1  505181114  4655221   19750.0  8903380157956  SIMPLE   \n",
       "2  505181114  4655221   82287.0  NYPAC00000212  SIMPLE   \n",
       "3  505181114  4655221  220212.0  6928820043042  CONFIG   \n",
       "4  505181106  6271562  197278.0  8901030649653  SIMPLE   \n",
       "\n",
       "                                                5                   6  \n",
       "0                    PAC Intense Auto Kohl Pencil 2018-06-01 00:01:52  \n",
       "1  Faces Magneteyes Kajal - Lasts All Day - Black 2018-06-01 00:01:52  \n",
       "2                     PAC Longlasting Kohl Pencil 2018-06-01 00:01:52  \n",
       "3  Garnier Skin Naturals Micellar Cleansing Water 2018-06-01 00:01:52  \n",
       "4      Lakme Whitening Rose Powder With Sunscreen 2018-06-01 00:02:00  "
      ]
     },
     "execution_count": 6,
     "metadata": {},
     "output_type": "execute_result"
    }
   ],
   "source": [
    "df.head()"
   ]
  },
  {
   "cell_type": "markdown",
   "metadata": {},
   "source": [
    "Extracting data with limits"
   ]
  },
  {
   "cell_type": "code",
   "execution_count": null,
   "metadata": {},
   "outputs": [],
   "source": [
    "rows = Utils.fetchResultsInBatch(Utils.nykaaMysqlConnection(), customer_orders_query_with_limit, 10000)\n",
    "df = df.append(rows)\n",
    "len(rows), len(df)"
   ]
  },
  {
   "cell_type": "markdown",
   "metadata": {},
   "source": [
    "Extracting archive data"
   ]
  },
  {
   "cell_type": "code",
   "execution_count": null,
   "metadata": {},
   "outputs": [],
   "source": [
    "rows = Utils.fetchResultsInBatch(Utils.nykaaMysqlConnection(), customer_orders_archive_query, 10000)\n",
    "df = df.append(rows)\n",
    "len(rows), len(df)"
   ]
  },
  {
   "cell_type": "code",
   "execution_count": null,
   "metadata": {},
   "outputs": [],
   "source": [
    "df.head()"
   ]
  },
  {
   "cell_type": "code",
   "execution_count": 7,
   "metadata": {},
   "outputs": [],
   "source": [
    "df.columns = ['order_id', 'customer_id', 'product_id', 'sku', 'product_type', 'product_name', 'created_at']"
   ]
  },
  {
   "cell_type": "code",
   "execution_count": 8,
   "metadata": {},
   "outputs": [
    {
     "data": {
      "text/html": [
       "<div>\n",
       "<style scoped>\n",
       "    .dataframe tbody tr th:only-of-type {\n",
       "        vertical-align: middle;\n",
       "    }\n",
       "\n",
       "    .dataframe tbody tr th {\n",
       "        vertical-align: top;\n",
       "    }\n",
       "\n",
       "    .dataframe thead th {\n",
       "        text-align: right;\n",
       "    }\n",
       "</style>\n",
       "<table border=\"1\" class=\"dataframe\">\n",
       "  <thead>\n",
       "    <tr style=\"text-align: right;\">\n",
       "      <th></th>\n",
       "      <th>order_id</th>\n",
       "      <th>customer_id</th>\n",
       "      <th>product_id</th>\n",
       "      <th>sku</th>\n",
       "      <th>product_type</th>\n",
       "      <th>product_name</th>\n",
       "      <th>created_at</th>\n",
       "    </tr>\n",
       "  </thead>\n",
       "  <tbody>\n",
       "    <tr>\n",
       "      <th>0</th>\n",
       "      <td>505181114</td>\n",
       "      <td>4655221</td>\n",
       "      <td>82288.0</td>\n",
       "      <td>NYPAC00000214</td>\n",
       "      <td>SIMPLE</td>\n",
       "      <td>PAC Intense Auto Kohl Pencil</td>\n",
       "      <td>2018-06-01 00:01:52</td>\n",
       "    </tr>\n",
       "    <tr>\n",
       "      <th>1</th>\n",
       "      <td>505181114</td>\n",
       "      <td>4655221</td>\n",
       "      <td>19750.0</td>\n",
       "      <td>8903380157956</td>\n",
       "      <td>SIMPLE</td>\n",
       "      <td>Faces Magneteyes Kajal - Lasts All Day - Black</td>\n",
       "      <td>2018-06-01 00:01:52</td>\n",
       "    </tr>\n",
       "    <tr>\n",
       "      <th>2</th>\n",
       "      <td>505181114</td>\n",
       "      <td>4655221</td>\n",
       "      <td>82287.0</td>\n",
       "      <td>NYPAC00000212</td>\n",
       "      <td>SIMPLE</td>\n",
       "      <td>PAC Longlasting Kohl Pencil</td>\n",
       "      <td>2018-06-01 00:01:52</td>\n",
       "    </tr>\n",
       "    <tr>\n",
       "      <th>3</th>\n",
       "      <td>505181114</td>\n",
       "      <td>4655221</td>\n",
       "      <td>220212.0</td>\n",
       "      <td>6928820043042</td>\n",
       "      <td>CONFIG</td>\n",
       "      <td>Garnier Skin Naturals Micellar Cleansing Water</td>\n",
       "      <td>2018-06-01 00:01:52</td>\n",
       "    </tr>\n",
       "    <tr>\n",
       "      <th>4</th>\n",
       "      <td>505181106</td>\n",
       "      <td>6271562</td>\n",
       "      <td>197278.0</td>\n",
       "      <td>8901030649653</td>\n",
       "      <td>SIMPLE</td>\n",
       "      <td>Lakme Whitening Rose Powder With Sunscreen</td>\n",
       "      <td>2018-06-01 00:02:00</td>\n",
       "    </tr>\n",
       "  </tbody>\n",
       "</table>\n",
       "</div>"
      ],
      "text/plain": [
       "    order_id  customer_id  product_id            sku product_type  \\\n",
       "0  505181114      4655221     82288.0  NYPAC00000214       SIMPLE   \n",
       "1  505181114      4655221     19750.0  8903380157956       SIMPLE   \n",
       "2  505181114      4655221     82287.0  NYPAC00000212       SIMPLE   \n",
       "3  505181114      4655221    220212.0  6928820043042       CONFIG   \n",
       "4  505181106      6271562    197278.0  8901030649653       SIMPLE   \n",
       "\n",
       "                                     product_name          created_at  \n",
       "0                    PAC Intense Auto Kohl Pencil 2018-06-01 00:01:52  \n",
       "1  Faces Magneteyes Kajal - Lasts All Day - Black 2018-06-01 00:01:52  \n",
       "2                     PAC Longlasting Kohl Pencil 2018-06-01 00:01:52  \n",
       "3  Garnier Skin Naturals Micellar Cleansing Water 2018-06-01 00:01:52  \n",
       "4      Lakme Whitening Rose Powder With Sunscreen 2018-06-01 00:02:00  "
      ]
     },
     "execution_count": 8,
     "metadata": {},
     "output_type": "execute_result"
    }
   ],
   "source": [
    "df.head()"
   ]
  },
  {
   "cell_type": "markdown",
   "metadata": {},
   "source": [
    "# Preparing child to parent dict for products"
   ]
  },
  {
   "cell_type": "code",
   "execution_count": null,
   "metadata": {},
   "outputs": [],
   "source": [
    "query = \"select child_id, parent_id from catalog_product_relation\"\n",
    "\n",
    "rows = Utils.fetchResultsInBatch(Utils.nykaaMysqlConnection(), query, 50000)\n",
    "child_2_parent = {row[0]: row[1] for row in rows}"
   ]
  },
  {
   "cell_type": "code",
   "execution_count": 10,
   "metadata": {},
   "outputs": [],
   "source": [
    "results = Utils.scrollESForResults()\n",
    "child_2_parent = results['child_2_parent']\n",
    "sku_2_product_id = results['sku_2_product_id']"
   ]
  },
  {
   "cell_type": "code",
   "execution_count": 12,
   "metadata": {},
   "outputs": [],
   "source": [
    "with open(\"/home/ubuntu/data/cab/child_2_parent.json\", \"r+\") as f:\n",
    "    child_2_parent.update({int(key): int(value) for key, value in json.load(f).items()})"
   ]
  },
  {
   "cell_type": "code",
   "execution_count": 14,
   "metadata": {},
   "outputs": [],
   "source": [
    "with open(\"/home/ubuntu/data/cab/sku_2_product_id.json\", \"r+\") as f:\n",
    "    sku_2_product_id.update({key: int(value) for key, value in json.load(f).items()})"
   ]
  },
  {
   "cell_type": "code",
   "execution_count": 16,
   "metadata": {},
   "outputs": [
    {
     "name": "stdout",
     "output_type": "stream",
     "text": [
      "CPU times: user 0 ns, sys: 0 ns, total: 0 ns\n",
      "Wall time: 6.44 µs\n"
     ]
    }
   ],
   "source": [
    "%time\n",
    "df['product_id'] = df.apply(lambda row: sku_2_product_id.get(row['sku'], row['product_id']), axis=1)\n",
    "df['product_id'] = df.apply(lambda row: child_2_parent.get(row['product_id'], row['product_id']), axis=1)"
   ]
  },
  {
   "cell_type": "code",
   "execution_count": null,
   "metadata": {},
   "outputs": [],
   "source": [
    "def convert_sku_2_product_id(data):\n",
    "    data['product_id'] = data.apply(lambda row: sku_2_product_id.get(row['sku'], row['product_id']), axis=1)\n",
    "    return data\n",
    "\n",
    "df = pandasutils.parallelize_dataframe(df, convert_sku_2_product_id, 10, 16)"
   ]
  },
  {
   "cell_type": "code",
   "execution_count": null,
   "metadata": {},
   "outputs": [],
   "source": [
    "def convert_2_parent_product(data):\n",
    "    data['product_id'] = data.apply(lambda row: child_2_parent.get(row['product_id'], row['product_id']), axis=1)\n",
    "    return data"
   ]
  },
  {
   "cell_type": "code",
   "execution_count": null,
   "metadata": {},
   "outputs": [],
   "source": [
    "df = pandasutils.parallelize_dataframe(df, convert_2_parent_product, 10, 16)"
   ]
  },
  {
   "cell_type": "code",
   "execution_count": null,
   "metadata": {},
   "outputs": [],
   "source": [
    "df.product_id.nunique()"
   ]
  },
  {
   "cell_type": "code",
   "execution_count": null,
   "metadata": {},
   "outputs": [],
   "source": [
    "#df = pd.read_csv('/home/ubuntu/data/cab/latest_7_jan.csv')"
   ]
  },
  {
   "cell_type": "code",
   "execution_count": 76,
   "metadata": {},
   "outputs": [],
   "source": [
    "df = df[~df.order_id.isna() & ~df.customer_id.isna() & ~df.product_id.isna()]"
   ]
  },
  {
   "cell_type": "code",
   "execution_count": 82,
   "metadata": {},
   "outputs": [],
   "source": [
    "df['product_id'] = df.product_id.values.astype(np.int64)"
   ]
  },
  {
   "cell_type": "markdown",
   "metadata": {},
   "source": [
    "# Removing duplicate products from an order"
   ]
  },
  {
   "cell_type": "code",
   "execution_count": null,
   "metadata": {},
   "outputs": [],
   "source": [
    "df = df.filter(['customer_id', 'order_id', 'product_id'])"
   ]
  },
  {
   "cell_type": "code",
   "execution_count": null,
   "metadata": {},
   "outputs": [],
   "source": [
    "df['product_count'] = 1"
   ]
  },
  {
   "cell_type": "code",
   "execution_count": null,
   "metadata": {},
   "outputs": [],
   "source": [
    "df = df.groupby(['customer_id', 'order_id', 'product_id']).agg({'product_count': 'count'}).reset_index()"
   ]
  },
  {
   "cell_type": "code",
   "execution_count": null,
   "metadata": {},
   "outputs": [],
   "source": [
    "len(df)"
   ]
  },
  {
   "cell_type": "code",
   "execution_count": null,
   "metadata": {},
   "outputs": [],
   "source": [
    "df = df.drop(['product_count'], axis=1)"
   ]
  },
  {
   "cell_type": "code",
   "execution_count": null,
   "metadata": {},
   "outputs": [],
   "source": [
    "df.head()"
   ]
  },
  {
   "cell_type": "markdown",
   "metadata": {},
   "source": [
    "# Adding is_luxe field to data"
   ]
  },
  {
   "cell_type": "markdown",
   "metadata": {},
   "source": [
    "First extracting out all the luxe products"
   ]
  },
  {
   "cell_type": "code",
   "execution_count": null,
   "metadata": {},
   "outputs": [],
   "source": [
    "import sys\n",
    "sys.path.append(\"/nykaa/api\")\n",
    "from pas.v2.utils import Utils\n",
    "\n",
    "unique_product_ids = list(map(lambda x: int(x), list(df['product_id'].unique())))\n",
    "es_query = {\n",
    "    \"query\": {\n",
    "        \"bool\": {\n",
    "            \"must\": [\n",
    "                {\"term\": {\"is_luxe\": True}},\n",
    "                {\"terms\": {\"product_id.keyword\": unique_product_ids}}\n",
    "            ]\n",
    "        }\n",
    "    },\n",
    "    \"_source\": [\"product_id\"]\n",
    "}\n",
    "\n",
    "es_conn = Utils.esConn()\n",
    "scroll_id = None\n",
    "luxe_products = []\n",
    "while True:\n",
    "    if not scroll_id:\n",
    "        response = es_conn.search(index='livecore', body=es_query, scroll='25m')\n",
    "    else:\n",
    "        response = es_conn.scroll(scroll_id=scroll_id, scroll='25m')\n",
    "        \n",
    "    if not response['hits']['hits']:\n",
    "        break\n",
    "      \n",
    "    scroll_id = response['_scroll_id']\n",
    "    luxe_products += [int(hit['_source']['product_id']) for hit in response['hits']['hits']]\n",
    "    \n",
    "luxe_products_dict = {int(product_id): True for product_id in luxe_products}"
   ]
  },
  {
   "cell_type": "code",
   "execution_count": null,
   "metadata": {},
   "outputs": [],
   "source": [
    "luxe_products_dict[10839]"
   ]
  },
  {
   "cell_type": "markdown",
   "metadata": {},
   "source": [
    "Now adding the field extracted"
   ]
  },
  {
   "cell_type": "code",
   "execution_count": null,
   "metadata": {},
   "outputs": [],
   "source": [
    "df['is_luxe'] = df['product_id'].apply(lambda x: luxe_products_dict[int(x)] if luxe_products_dict.get(int(x)) else False)"
   ]
  },
  {
   "cell_type": "code",
   "execution_count": null,
   "metadata": {},
   "outputs": [],
   "source": [
    "df.head()"
   ]
  },
  {
   "cell_type": "code",
   "execution_count": null,
   "metadata": {},
   "outputs": [],
   "source": [
    "df[df['is_luxe'] == True].head()"
   ]
  },
  {
   "cell_type": "markdown",
   "metadata": {},
   "source": [
    "# Writing to CSV File"
   ]
  },
  {
   "cell_type": "code",
   "execution_count": 11,
   "metadata": {},
   "outputs": [],
   "source": [
    "df.to_csv('/home/ubuntu/data/cab/cab_8_jan.csv', encoding='utf-8', index=False)"
   ]
  },
  {
   "cell_type": "code",
   "execution_count": 85,
   "metadata": {},
   "outputs": [
    {
     "data": {
      "text/plain": [
       "41442835"
      ]
     },
     "execution_count": 85,
     "metadata": {},
     "output_type": "execute_result"
    }
   ],
   "source": [
    "len(df)"
   ]
  },
  {
   "cell_type": "code",
   "execution_count": 86,
   "metadata": {},
   "outputs": [],
   "source": [
    "df_2018 = df[df.created_at > '2018-01-01 00:00:00']"
   ]
  },
  {
   "cell_type": "code",
   "execution_count": 87,
   "metadata": {},
   "outputs": [
    {
     "data": {
      "text/plain": [
       "23327042"
      ]
     },
     "execution_count": 87,
     "metadata": {},
     "output_type": "execute_result"
    }
   ],
   "source": [
    "len(df_2018)"
   ]
  },
  {
   "cell_type": "code",
   "execution_count": 57,
   "metadata": {},
   "outputs": [
    {
     "data": {
      "text/html": [
       "<div>\n",
       "<style scoped>\n",
       "    .dataframe tbody tr th:only-of-type {\n",
       "        vertical-align: middle;\n",
       "    }\n",
       "\n",
       "    .dataframe tbody tr th {\n",
       "        vertical-align: top;\n",
       "    }\n",
       "\n",
       "    .dataframe thead th {\n",
       "        text-align: right;\n",
       "    }\n",
       "</style>\n",
       "<table border=\"1\" class=\"dataframe\">\n",
       "  <thead>\n",
       "    <tr style=\"text-align: right;\">\n",
       "      <th></th>\n",
       "      <th>order_id</th>\n",
       "      <th>customer_id</th>\n",
       "      <th>product_id</th>\n",
       "      <th>sku</th>\n",
       "      <th>product_type</th>\n",
       "      <th>product_name</th>\n",
       "      <th>created_at</th>\n",
       "    </tr>\n",
       "  </thead>\n",
       "  <tbody>\n",
       "    <tr>\n",
       "      <th>1784660</th>\n",
       "      <td>503157588</td>\n",
       "      <td>650079</td>\n",
       "      <td>131991.0</td>\n",
       "      <td>8904086350146</td>\n",
       "      <td>SIMPLE</td>\n",
       "      <td>Vega  Shampoo Comb 1268</td>\n",
       "      <td>2018-01-01 00:05:29</td>\n",
       "    </tr>\n",
       "    <tr>\n",
       "      <th>1784661</th>\n",
       "      <td>701066043</td>\n",
       "      <td>1867643</td>\n",
       "      <td>28012.0</td>\n",
       "      <td>8904245701291</td>\n",
       "      <td>CONFIG</td>\n",
       "      <td>Nykaa Floral Carnival Nail Enamel - Carefree C...</td>\n",
       "      <td>2018-01-01 00:07:57</td>\n",
       "    </tr>\n",
       "    <tr>\n",
       "      <th>1784662</th>\n",
       "      <td>701066043</td>\n",
       "      <td>1867643</td>\n",
       "      <td>61421.0</td>\n",
       "      <td>8904245700805</td>\n",
       "      <td>CONFIG</td>\n",
       "      <td>Nykaa Matte Nail Enamel - S'Mores Milkshake</td>\n",
       "      <td>2018-01-01 00:07:57</td>\n",
       "    </tr>\n",
       "    <tr>\n",
       "      <th>1784663</th>\n",
       "      <td>701066043</td>\n",
       "      <td>1867643</td>\n",
       "      <td>61421.0</td>\n",
       "      <td>8904245700911</td>\n",
       "      <td>CONFIG</td>\n",
       "      <td>Nykaa Matte Nail Enamel - Cherry Pop</td>\n",
       "      <td>2018-01-01 00:07:57</td>\n",
       "    </tr>\n",
       "    <tr>\n",
       "      <th>1784664</th>\n",
       "      <td>503157596</td>\n",
       "      <td>650079</td>\n",
       "      <td>131991.0</td>\n",
       "      <td>8904086350146</td>\n",
       "      <td>SIMPLE</td>\n",
       "      <td>Vega  Shampoo Comb 1268</td>\n",
       "      <td>2018-01-01 00:08:07</td>\n",
       "    </tr>\n",
       "  </tbody>\n",
       "</table>\n",
       "</div>"
      ],
      "text/plain": [
       "          order_id  customer_id  product_id            sku product_type  \\\n",
       "1784660  503157588       650079    131991.0  8904086350146       SIMPLE   \n",
       "1784661  701066043      1867643     28012.0  8904245701291       CONFIG   \n",
       "1784662  701066043      1867643     61421.0  8904245700805       CONFIG   \n",
       "1784663  701066043      1867643     61421.0  8904245700911       CONFIG   \n",
       "1784664  503157596       650079    131991.0  8904086350146       SIMPLE   \n",
       "\n",
       "                                              product_name          created_at  \n",
       "1784660                            Vega  Shampoo Comb 1268 2018-01-01 00:05:29  \n",
       "1784661  Nykaa Floral Carnival Nail Enamel - Carefree C... 2018-01-01 00:07:57  \n",
       "1784662        Nykaa Matte Nail Enamel - S'Mores Milkshake 2018-01-01 00:07:57  \n",
       "1784663               Nykaa Matte Nail Enamel - Cherry Pop 2018-01-01 00:07:57  \n",
       "1784664                            Vega  Shampoo Comb 1268 2018-01-01 00:08:07  "
      ]
     },
     "execution_count": 57,
     "metadata": {},
     "output_type": "execute_result"
    }
   ],
   "source": [
    "df_2018.head()"
   ]
  },
  {
   "cell_type": "code",
   "execution_count": 89,
   "metadata": {},
   "outputs": [],
   "source": [
    "df_2018.to_csv('/home/ubuntu/data/cab/raw_cab_2018_till_6_oct.csv', encoding='utf-8', index=False)"
   ]
  },
  {
   "cell_type": "code",
   "execution_count": 20,
   "metadata": {},
   "outputs": [],
   "source": [
    "df = pd.read_csv('/home/ubuntu/data/cab/cab_7_jan.csv')"
   ]
  },
  {
   "cell_type": "code",
   "execution_count": 21,
   "metadata": {},
   "outputs": [
    {
     "data": {
      "text/html": [
       "<div>\n",
       "<style scoped>\n",
       "    .dataframe tbody tr th:only-of-type {\n",
       "        vertical-align: middle;\n",
       "    }\n",
       "\n",
       "    .dataframe tbody tr th {\n",
       "        vertical-align: top;\n",
       "    }\n",
       "\n",
       "    .dataframe thead th {\n",
       "        text-align: right;\n",
       "    }\n",
       "</style>\n",
       "<table border=\"1\" class=\"dataframe\">\n",
       "  <thead>\n",
       "    <tr style=\"text-align: right;\">\n",
       "      <th></th>\n",
       "      <th>order_id</th>\n",
       "      <th>customer_id</th>\n",
       "      <th>product_id</th>\n",
       "      <th>sku</th>\n",
       "      <th>product_type</th>\n",
       "      <th>product_name</th>\n",
       "      <th>created_at</th>\n",
       "    </tr>\n",
       "  </thead>\n",
       "  <tbody>\n",
       "    <tr>\n",
       "      <th>0</th>\n",
       "      <td>505181137</td>\n",
       "      <td>613295</td>\n",
       "      <td>188915.0</td>\n",
       "      <td>8901314308009</td>\n",
       "      <td>SIMPLE</td>\n",
       "      <td>Colgate Bubble Fruit Flavour Minions Toothpast...</td>\n",
       "      <td>2018-06-01 00:04:19</td>\n",
       "    </tr>\n",
       "    <tr>\n",
       "      <th>1</th>\n",
       "      <td>505181137</td>\n",
       "      <td>613295</td>\n",
       "      <td>13368.0</td>\n",
       "      <td>8906009450414</td>\n",
       "      <td>SIMPLE</td>\n",
       "      <td>Biotique Bio Kelp fresh growth Protein Shampoo</td>\n",
       "      <td>2018-06-01 00:04:19</td>\n",
       "    </tr>\n",
       "    <tr>\n",
       "      <th>2</th>\n",
       "      <td>505181137</td>\n",
       "      <td>613295</td>\n",
       "      <td>39968.0</td>\n",
       "      <td>8906009452616</td>\n",
       "      <td>SIMPLE</td>\n",
       "      <td>Biotique Bio Honey Gel Refreshing Foaming Face...</td>\n",
       "      <td>2018-06-01 00:04:19</td>\n",
       "    </tr>\n",
       "    <tr>\n",
       "      <th>3</th>\n",
       "      <td>505181137</td>\n",
       "      <td>613295</td>\n",
       "      <td>209020.0</td>\n",
       "      <td>8901030665066</td>\n",
       "      <td>SIMPLE</td>\n",
       "      <td>Dove Cream Beauty Bathing Soap (Buy 4 Get 1)</td>\n",
       "      <td>2018-06-01 00:04:19</td>\n",
       "    </tr>\n",
       "    <tr>\n",
       "      <th>4</th>\n",
       "      <td>505181137</td>\n",
       "      <td>613295</td>\n",
       "      <td>213461.0</td>\n",
       "      <td>8901314306500</td>\n",
       "      <td>SIMPLE</td>\n",
       "      <td>Colgate Cibaca Vedshakti Toothpaste</td>\n",
       "      <td>2018-06-01 00:04:19</td>\n",
       "    </tr>\n",
       "  </tbody>\n",
       "</table>\n",
       "</div>"
      ],
      "text/plain": [
       "    order_id  customer_id  product_id            sku product_type  \\\n",
       "0  505181137       613295    188915.0  8901314308009       SIMPLE   \n",
       "1  505181137       613295     13368.0  8906009450414       SIMPLE   \n",
       "2  505181137       613295     39968.0  8906009452616       SIMPLE   \n",
       "3  505181137       613295    209020.0  8901030665066       SIMPLE   \n",
       "4  505181137       613295    213461.0  8901314306500       SIMPLE   \n",
       "\n",
       "                                        product_name           created_at  \n",
       "0  Colgate Bubble Fruit Flavour Minions Toothpast...  2018-06-01 00:04:19  \n",
       "1     Biotique Bio Kelp fresh growth Protein Shampoo  2018-06-01 00:04:19  \n",
       "2  Biotique Bio Honey Gel Refreshing Foaming Face...  2018-06-01 00:04:19  \n",
       "3       Dove Cream Beauty Bathing Soap (Buy 4 Get 1)  2018-06-01 00:04:19  \n",
       "4                Colgate Cibaca Vedshakti Toothpaste  2018-06-01 00:04:19  "
      ]
     },
     "execution_count": 21,
     "metadata": {},
     "output_type": "execute_result"
    }
   ],
   "source": [
    "df.head()"
   ]
  },
  {
   "cell_type": "code",
   "execution_count": 23,
   "metadata": {},
   "outputs": [
    {
     "data": {
      "text/plain": [
       "(7178232, 72582)"
      ]
     },
     "execution_count": 23,
     "metadata": {},
     "output_type": "execute_result"
    }
   ],
   "source": [
    "df.order_id.nunique(), df.product_id.nunique()"
   ]
  },
  {
   "cell_type": "code",
   "execution_count": 24,
   "metadata": {},
   "outputs": [
    {
     "data": {
      "text/plain": [
       "24869502"
      ]
     },
     "execution_count": 24,
     "metadata": {},
     "output_type": "execute_result"
    }
   ],
   "source": [
    "len(df)"
   ]
  },
  {
   "cell_type": "code",
   "execution_count": null,
   "metadata": {},
   "outputs": [],
   "source": []
  }
 ],
 "metadata": {
  "kernelspec": {
   "display_name": "Python 3",
   "language": "python",
   "name": "python3"
  }
 },
 "nbformat": 4,
 "nbformat_minor": 2
}
