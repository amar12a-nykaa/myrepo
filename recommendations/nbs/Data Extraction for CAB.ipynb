{
 "cells": [
  {
   "cell_type": "markdown",
   "metadata": {},
   "source": [
    "# DATA Extraction"
   ]
  },
  {
   "cell_type": "code",
   "execution_count": 1,
   "metadata": {},
   "outputs": [
    {
     "name": "stderr",
     "output_type": "stream",
     "text": [
      "/home/ubuntu/anaconda3/lib/python3.6/site-packages/matplotlib/__init__.py:1067: UserWarning: Duplicate key in file \"/home/ubuntu/.config/matplotlib/matplotlibrc\", line #2\n",
      "  (fname, cnt))\n",
      "/home/ubuntu/anaconda3/lib/python3.6/site-packages/matplotlib/__init__.py:1067: UserWarning: Duplicate key in file \"/home/ubuntu/.config/matplotlib/matplotlibrc\", line #3\n",
      "  (fname, cnt))\n"
     ]
    }
   ],
   "source": [
    "import os\n",
    "from collections import defaultdict\n",
    "import sys\n",
    "import time\n",
    "import json\n",
    "import psutil\n",
    "import argparse\n",
    "import operator\n",
    "import pandas as pd\n",
    "sys.path.append(\"/nykaa/api\")\n",
    "from pas.v2.utils import Utils"
   ]
  },
  {
   "cell_type": "code",
   "execution_count": 2,
   "metadata": {},
   "outputs": [],
   "source": [
    "nykaadb = Utils.nykaaMysqlConnection()\n",
    "cursor = nykaadb.cursor()"
   ]
  },
  {
   "cell_type": "markdown",
   "metadata": {},
   "source": [
    "Query for Extracting data with limit"
   ]
  },
  {
   "cell_type": "code",
   "execution_count": 3,
   "metadata": {},
   "outputs": [],
   "source": [
    "customer_orders_query_with_limit = \"SELECT sfoi.order_id, sfo.customer_id, sfoi.product_id, sfoi.product_type, sfoi.name, sfo.created_at FROM sales_flat_order_item sfoi INNER JOIN sales_flat_order sfo ON sfo.entity_id=sfoi.order_id WHERE sfoi.order_id <> 0 AND sfoi.mrp > 1 AND sfoi.parent_item_id IS NULL AND sfo.customer_id IS NOT NULL LIMIT 50000;\""
   ]
  },
  {
   "cell_type": "markdown",
   "metadata": {},
   "source": [
    "Query for Extracting data without limit"
   ]
  },
  {
   "cell_type": "code",
   "execution_count": 4,
   "metadata": {},
   "outputs": [],
   "source": [
    "customer_orders_query_without_limit = \"SELECT sfoi.order_id, sfo.customer_id, sfoi.product_id, sfoi.product_type, sfoi.name, sfo.created_at FROM sales_flat_order_item sfoi INNER JOIN sales_flat_order sfo ON sfo.entity_id=sfoi.order_id WHERE sfoi.order_id <> 0 AND sfoi.mrp > 1 AND sfo.customer_id IS NOT NULL;\"\n",
    "#customer_orders_query_without_limit = \"SELECT sfoi.order_id, sfo.customer_id, sfoi.product_id, sfoi.product_type, sfoi.name, sfo.created_at FROM sales_flat_order_item sfoi INNER JOIN sales_flat_order sfo ON sfo.entity_id=sfoi.order_id WHERE sfoi.order_id <> 0 AND sfoi.mrp > 1 AND sfoi.parent_item_id IS NULL AND sfo.customer_id IS NOT NULL;\""
   ]
  },
  {
   "cell_type": "markdown",
   "metadata": {},
   "source": [
    "Query for Extracting data from archive table"
   ]
  },
  {
   "cell_type": "code",
   "execution_count": 5,
   "metadata": {},
   "outputs": [],
   "source": [
    "customer_orders_archive_query = \"SELECT sfoi.order_id, sfo.customer_id, sfoi.product_id, sfoi.product_type, sfoi.name, sfo.created_at FROM sales_flat_order_item_archive sfoi INNER JOIN sales_flat_order_archive sfo ON sfo.entity_id=sfoi.order_id WHERE sfoi.order_id <> 0 AND sfoi.mrp > 1 AND sfo.customer_id IS NOT NULL;\"\n",
    "#customer_orders_archive_query = \"SELECT sfoi.order_id, sfo.customer_id, sfoi.product_id, sfoi.product_type, sfoi.name, sfo.created_at FROM sales_flat_order_item_archive sfoi INNER JOIN sales_flat_order_archive sfo ON sfo.entity_id=sfoi.order_id WHERE sfoi.order_id <> 0 AND sfoi.mrp > 1 AND sfoi.parent_item_id IS NULL AND sfo.customer_id IS NOT NULL;\""
   ]
  },
  {
   "cell_type": "code",
   "execution_count": null,
   "metadata": {},
   "outputs": [],
   "source": [
    "def extract_data(query):\n",
    "    cursor.execute(query)\n",
    "    rows = []\n",
    "    BATCH_SIZE = 10000\n",
    "\n",
    "    while True:\n",
    "        batch_empty = True\n",
    "        for row in cursor.fetchmany(BATCH_SIZE):\n",
    "            batch_empty = False\n",
    "            rows.append(row)\n",
    "        if batch_empty:\n",
    "            break\n",
    "            \n",
    "    return rows"
   ]
  },
  {
   "cell_type": "markdown",
   "metadata": {},
   "source": [
    "Dataframe for storing extracted data"
   ]
  },
  {
   "cell_type": "code",
   "execution_count": 6,
   "metadata": {},
   "outputs": [],
   "source": [
    "df = pd.DataFrame()"
   ]
  },
  {
   "cell_type": "markdown",
   "metadata": {},
   "source": [
    "Extracting data without limits"
   ]
  },
  {
   "cell_type": "code",
   "execution_count": 7,
   "metadata": {},
   "outputs": [
    {
     "data": {
      "text/plain": [
       "(44461993, 44461993)"
      ]
     },
     "execution_count": 7,
     "metadata": {},
     "output_type": "execute_result"
    }
   ],
   "source": [
    "rows = Utils.fetchResultsInBatch(Utils.nykaaMysqlConnection(), customer_orders_query_without_limit, 10000)\n",
    "df = df.append(rows)\n",
    "len(rows), len(df)"
   ]
  },
  {
   "cell_type": "code",
   "execution_count": 8,
   "metadata": {},
   "outputs": [
    {
     "data": {
      "text/html": [
       "<div>\n",
       "<style scoped>\n",
       "    .dataframe tbody tr th:only-of-type {\n",
       "        vertical-align: middle;\n",
       "    }\n",
       "\n",
       "    .dataframe tbody tr th {\n",
       "        vertical-align: top;\n",
       "    }\n",
       "\n",
       "    .dataframe thead th {\n",
       "        text-align: right;\n",
       "    }\n",
       "</style>\n",
       "<table border=\"1\" class=\"dataframe\">\n",
       "  <thead>\n",
       "    <tr style=\"text-align: right;\">\n",
       "      <th></th>\n",
       "      <th>0</th>\n",
       "      <th>1</th>\n",
       "      <th>2</th>\n",
       "      <th>3</th>\n",
       "      <th>4</th>\n",
       "      <th>5</th>\n",
       "    </tr>\n",
       "  </thead>\n",
       "  <tbody>\n",
       "    <tr>\n",
       "      <th>0</th>\n",
       "      <td>1867994</td>\n",
       "      <td>197355</td>\n",
       "      <td>19050</td>\n",
       "      <td>configurable</td>\n",
       "      <td>Nature's Essence Magic Henna Hair Color</td>\n",
       "      <td>2016-10-21 00:07:42</td>\n",
       "    </tr>\n",
       "    <tr>\n",
       "      <th>1</th>\n",
       "      <td>1867994</td>\n",
       "      <td>197355</td>\n",
       "      <td>19048</td>\n",
       "      <td>simple</td>\n",
       "      <td>Nature's Essence Magic Henna Hair Color Burgundy</td>\n",
       "      <td>2016-10-21 00:07:42</td>\n",
       "    </tr>\n",
       "    <tr>\n",
       "      <th>2</th>\n",
       "      <td>1867994</td>\n",
       "      <td>197355</td>\n",
       "      <td>12721</td>\n",
       "      <td>configurable</td>\n",
       "      <td>Aroma Magic Aromatic Skin Toner</td>\n",
       "      <td>2016-10-21 00:07:42</td>\n",
       "    </tr>\n",
       "    <tr>\n",
       "      <th>3</th>\n",
       "      <td>1867994</td>\n",
       "      <td>197355</td>\n",
       "      <td>12492</td>\n",
       "      <td>simple</td>\n",
       "      <td>Aroma Magic Aromatic Skin Toner</td>\n",
       "      <td>2016-10-21 00:07:42</td>\n",
       "    </tr>\n",
       "    <tr>\n",
       "      <th>4</th>\n",
       "      <td>1867994</td>\n",
       "      <td>197355</td>\n",
       "      <td>13417</td>\n",
       "      <td>configurable</td>\n",
       "      <td>Aroma Magic Sunblock Lotion</td>\n",
       "      <td>2016-10-21 00:07:42</td>\n",
       "    </tr>\n",
       "  </tbody>\n",
       "</table>\n",
       "</div>"
      ],
      "text/plain": [
       "         0       1      2             3  \\\n",
       "0  1867994  197355  19050  configurable   \n",
       "1  1867994  197355  19048        simple   \n",
       "2  1867994  197355  12721  configurable   \n",
       "3  1867994  197355  12492        simple   \n",
       "4  1867994  197355  13417  configurable   \n",
       "\n",
       "                                                  4                   5  \n",
       "0           Nature's Essence Magic Henna Hair Color 2016-10-21 00:07:42  \n",
       "1  Nature's Essence Magic Henna Hair Color Burgundy 2016-10-21 00:07:42  \n",
       "2                   Aroma Magic Aromatic Skin Toner 2016-10-21 00:07:42  \n",
       "3                   Aroma Magic Aromatic Skin Toner 2016-10-21 00:07:42  \n",
       "4                       Aroma Magic Sunblock Lotion 2016-10-21 00:07:42  "
      ]
     },
     "execution_count": 8,
     "metadata": {},
     "output_type": "execute_result"
    }
   ],
   "source": [
    "df.head()"
   ]
  },
  {
   "cell_type": "markdown",
   "metadata": {},
   "source": [
    "Extracting data with limits"
   ]
  },
  {
   "cell_type": "code",
   "execution_count": null,
   "metadata": {},
   "outputs": [],
   "source": [
    "rows = Utils.fetchResultsInBatch(Utils.nykaaMysqlConnection(), customer_orders_query_with_limit, 10000)\n",
    "df = df.append(rows)\n",
    "len(rows), len(df)"
   ]
  },
  {
   "cell_type": "markdown",
   "metadata": {},
   "source": [
    "Extracting archive data"
   ]
  },
  {
   "cell_type": "code",
   "execution_count": 9,
   "metadata": {},
   "outputs": [
    {
     "data": {
      "text/plain": [
       "(6990225, 51452218)"
      ]
     },
     "execution_count": 9,
     "metadata": {},
     "output_type": "execute_result"
    }
   ],
   "source": [
    "rows = Utils.fetchResultsInBatch(Utils.nykaaMysqlConnection(), customer_orders_archive_query, 10000)\n",
    "df = df.append(rows)\n",
    "len(rows), len(df)"
   ]
  },
  {
   "cell_type": "code",
   "execution_count": 10,
   "metadata": {},
   "outputs": [
    {
     "data": {
      "text/html": [
       "<div>\n",
       "<style scoped>\n",
       "    .dataframe tbody tr th:only-of-type {\n",
       "        vertical-align: middle;\n",
       "    }\n",
       "\n",
       "    .dataframe tbody tr th {\n",
       "        vertical-align: top;\n",
       "    }\n",
       "\n",
       "    .dataframe thead th {\n",
       "        text-align: right;\n",
       "    }\n",
       "</style>\n",
       "<table border=\"1\" class=\"dataframe\">\n",
       "  <thead>\n",
       "    <tr style=\"text-align: right;\">\n",
       "      <th></th>\n",
       "      <th>0</th>\n",
       "      <th>1</th>\n",
       "      <th>2</th>\n",
       "      <th>3</th>\n",
       "      <th>4</th>\n",
       "      <th>5</th>\n",
       "    </tr>\n",
       "  </thead>\n",
       "  <tbody>\n",
       "    <tr>\n",
       "      <th>0</th>\n",
       "      <td>1867994</td>\n",
       "      <td>197355</td>\n",
       "      <td>19050</td>\n",
       "      <td>configurable</td>\n",
       "      <td>Nature's Essence Magic Henna Hair Color</td>\n",
       "      <td>2016-10-21 00:07:42</td>\n",
       "    </tr>\n",
       "    <tr>\n",
       "      <th>1</th>\n",
       "      <td>1867994</td>\n",
       "      <td>197355</td>\n",
       "      <td>19048</td>\n",
       "      <td>simple</td>\n",
       "      <td>Nature's Essence Magic Henna Hair Color Burgundy</td>\n",
       "      <td>2016-10-21 00:07:42</td>\n",
       "    </tr>\n",
       "    <tr>\n",
       "      <th>2</th>\n",
       "      <td>1867994</td>\n",
       "      <td>197355</td>\n",
       "      <td>12721</td>\n",
       "      <td>configurable</td>\n",
       "      <td>Aroma Magic Aromatic Skin Toner</td>\n",
       "      <td>2016-10-21 00:07:42</td>\n",
       "    </tr>\n",
       "    <tr>\n",
       "      <th>3</th>\n",
       "      <td>1867994</td>\n",
       "      <td>197355</td>\n",
       "      <td>12492</td>\n",
       "      <td>simple</td>\n",
       "      <td>Aroma Magic Aromatic Skin Toner</td>\n",
       "      <td>2016-10-21 00:07:42</td>\n",
       "    </tr>\n",
       "    <tr>\n",
       "      <th>4</th>\n",
       "      <td>1867994</td>\n",
       "      <td>197355</td>\n",
       "      <td>13417</td>\n",
       "      <td>configurable</td>\n",
       "      <td>Aroma Magic Sunblock Lotion</td>\n",
       "      <td>2016-10-21 00:07:42</td>\n",
       "    </tr>\n",
       "  </tbody>\n",
       "</table>\n",
       "</div>"
      ],
      "text/plain": [
       "         0       1      2             3  \\\n",
       "0  1867994  197355  19050  configurable   \n",
       "1  1867994  197355  19048        simple   \n",
       "2  1867994  197355  12721  configurable   \n",
       "3  1867994  197355  12492        simple   \n",
       "4  1867994  197355  13417  configurable   \n",
       "\n",
       "                                                  4                   5  \n",
       "0           Nature's Essence Magic Henna Hair Color 2016-10-21 00:07:42  \n",
       "1  Nature's Essence Magic Henna Hair Color Burgundy 2016-10-21 00:07:42  \n",
       "2                   Aroma Magic Aromatic Skin Toner 2016-10-21 00:07:42  \n",
       "3                   Aroma Magic Aromatic Skin Toner 2016-10-21 00:07:42  \n",
       "4                       Aroma Magic Sunblock Lotion 2016-10-21 00:07:42  "
      ]
     },
     "execution_count": 10,
     "metadata": {},
     "output_type": "execute_result"
    }
   ],
   "source": [
    "df.head()"
   ]
  },
  {
   "cell_type": "code",
   "execution_count": 11,
   "metadata": {},
   "outputs": [],
   "source": [
    "df.columns = ['order_id', 'customer_id', 'product_id', 'product_type', 'product_name', 'created_at']"
   ]
  },
  {
   "cell_type": "code",
   "execution_count": 12,
   "metadata": {},
   "outputs": [
    {
     "data": {
      "text/html": [
       "<div>\n",
       "<style scoped>\n",
       "    .dataframe tbody tr th:only-of-type {\n",
       "        vertical-align: middle;\n",
       "    }\n",
       "\n",
       "    .dataframe tbody tr th {\n",
       "        vertical-align: top;\n",
       "    }\n",
       "\n",
       "    .dataframe thead th {\n",
       "        text-align: right;\n",
       "    }\n",
       "</style>\n",
       "<table border=\"1\" class=\"dataframe\">\n",
       "  <thead>\n",
       "    <tr style=\"text-align: right;\">\n",
       "      <th></th>\n",
       "      <th>order_id</th>\n",
       "      <th>customer_id</th>\n",
       "      <th>product_id</th>\n",
       "      <th>product_type</th>\n",
       "      <th>product_name</th>\n",
       "      <th>created_at</th>\n",
       "    </tr>\n",
       "  </thead>\n",
       "  <tbody>\n",
       "    <tr>\n",
       "      <th>0</th>\n",
       "      <td>1867994</td>\n",
       "      <td>197355</td>\n",
       "      <td>19050</td>\n",
       "      <td>configurable</td>\n",
       "      <td>Nature's Essence Magic Henna Hair Color</td>\n",
       "      <td>2016-10-21 00:07:42</td>\n",
       "    </tr>\n",
       "    <tr>\n",
       "      <th>1</th>\n",
       "      <td>1867994</td>\n",
       "      <td>197355</td>\n",
       "      <td>19048</td>\n",
       "      <td>simple</td>\n",
       "      <td>Nature's Essence Magic Henna Hair Color Burgundy</td>\n",
       "      <td>2016-10-21 00:07:42</td>\n",
       "    </tr>\n",
       "    <tr>\n",
       "      <th>2</th>\n",
       "      <td>1867994</td>\n",
       "      <td>197355</td>\n",
       "      <td>12721</td>\n",
       "      <td>configurable</td>\n",
       "      <td>Aroma Magic Aromatic Skin Toner</td>\n",
       "      <td>2016-10-21 00:07:42</td>\n",
       "    </tr>\n",
       "    <tr>\n",
       "      <th>3</th>\n",
       "      <td>1867994</td>\n",
       "      <td>197355</td>\n",
       "      <td>12492</td>\n",
       "      <td>simple</td>\n",
       "      <td>Aroma Magic Aromatic Skin Toner</td>\n",
       "      <td>2016-10-21 00:07:42</td>\n",
       "    </tr>\n",
       "    <tr>\n",
       "      <th>4</th>\n",
       "      <td>1867994</td>\n",
       "      <td>197355</td>\n",
       "      <td>13417</td>\n",
       "      <td>configurable</td>\n",
       "      <td>Aroma Magic Sunblock Lotion</td>\n",
       "      <td>2016-10-21 00:07:42</td>\n",
       "    </tr>\n",
       "  </tbody>\n",
       "</table>\n",
       "</div>"
      ],
      "text/plain": [
       "   order_id  customer_id  product_id  product_type  \\\n",
       "0   1867994       197355       19050  configurable   \n",
       "1   1867994       197355       19048        simple   \n",
       "2   1867994       197355       12721  configurable   \n",
       "3   1867994       197355       12492        simple   \n",
       "4   1867994       197355       13417  configurable   \n",
       "\n",
       "                                       product_name          created_at  \n",
       "0           Nature's Essence Magic Henna Hair Color 2016-10-21 00:07:42  \n",
       "1  Nature's Essence Magic Henna Hair Color Burgundy 2016-10-21 00:07:42  \n",
       "2                   Aroma Magic Aromatic Skin Toner 2016-10-21 00:07:42  \n",
       "3                   Aroma Magic Aromatic Skin Toner 2016-10-21 00:07:42  \n",
       "4                       Aroma Magic Sunblock Lotion 2016-10-21 00:07:42  "
      ]
     },
     "execution_count": 12,
     "metadata": {},
     "output_type": "execute_result"
    }
   ],
   "source": [
    "df.head()"
   ]
  },
  {
   "cell_type": "code",
   "execution_count": 13,
   "metadata": {},
   "outputs": [
    {
     "data": {
      "text/html": [
       "<div>\n",
       "<style scoped>\n",
       "    .dataframe tbody tr th:only-of-type {\n",
       "        vertical-align: middle;\n",
       "    }\n",
       "\n",
       "    .dataframe tbody tr th {\n",
       "        vertical-align: top;\n",
       "    }\n",
       "\n",
       "    .dataframe thead th {\n",
       "        text-align: right;\n",
       "    }\n",
       "</style>\n",
       "<table border=\"1\" class=\"dataframe\">\n",
       "  <thead>\n",
       "    <tr style=\"text-align: right;\">\n",
       "      <th></th>\n",
       "      <th>product_id</th>\n",
       "      <th>product_name</th>\n",
       "    </tr>\n",
       "  </thead>\n",
       "  <tbody>\n",
       "    <tr>\n",
       "      <th>0</th>\n",
       "      <td>19050</td>\n",
       "      <td>Nature's Essence Magic Henna Hair Color</td>\n",
       "    </tr>\n",
       "    <tr>\n",
       "      <th>1</th>\n",
       "      <td>19048</td>\n",
       "      <td>Nature's Essence Magic Henna Hair Color Burgundy</td>\n",
       "    </tr>\n",
       "    <tr>\n",
       "      <th>2</th>\n",
       "      <td>12721</td>\n",
       "      <td>Aroma Magic Aromatic Skin Toner</td>\n",
       "    </tr>\n",
       "    <tr>\n",
       "      <th>3</th>\n",
       "      <td>12492</td>\n",
       "      <td>Aroma Magic Aromatic Skin Toner</td>\n",
       "    </tr>\n",
       "    <tr>\n",
       "      <th>4</th>\n",
       "      <td>13417</td>\n",
       "      <td>Aroma Magic Sunblock Lotion</td>\n",
       "    </tr>\n",
       "  </tbody>\n",
       "</table>\n",
       "</div>"
      ],
      "text/plain": [
       "   product_id                                      product_name\n",
       "0       19050           Nature's Essence Magic Henna Hair Color\n",
       "1       19048  Nature's Essence Magic Henna Hair Color Burgundy\n",
       "2       12721                   Aroma Magic Aromatic Skin Toner\n",
       "3       12492                   Aroma Magic Aromatic Skin Toner\n",
       "4       13417                       Aroma Magic Sunblock Lotion"
      ]
     },
     "execution_count": 13,
     "metadata": {},
     "output_type": "execute_result"
    }
   ],
   "source": [
    "products_df = df.filter(['product_id', 'product_name'])\n",
    "products_df.head()"
   ]
  },
  {
   "cell_type": "code",
   "execution_count": 14,
   "metadata": {},
   "outputs": [
    {
     "name": "stdout",
     "output_type": "stream",
     "text": [
      "122333\n"
     ]
    }
   ],
   "source": [
    "product_id_2_name = dict(zip(products_df.product_id, products_df.product_name))\n",
    "print(len(product_id_2_name))\n",
    "del products_df"
   ]
  },
  {
   "cell_type": "code",
   "execution_count": 15,
   "metadata": {},
   "outputs": [
    {
     "data": {
      "text/html": [
       "<div>\n",
       "<style scoped>\n",
       "    .dataframe tbody tr th:only-of-type {\n",
       "        vertical-align: middle;\n",
       "    }\n",
       "\n",
       "    .dataframe tbody tr th {\n",
       "        vertical-align: top;\n",
       "    }\n",
       "\n",
       "    .dataframe thead th {\n",
       "        text-align: right;\n",
       "    }\n",
       "</style>\n",
       "<table border=\"1\" class=\"dataframe\">\n",
       "  <thead>\n",
       "    <tr style=\"text-align: right;\">\n",
       "      <th></th>\n",
       "      <th>order_id</th>\n",
       "      <th>created_at</th>\n",
       "    </tr>\n",
       "  </thead>\n",
       "  <tbody>\n",
       "    <tr>\n",
       "      <th>0</th>\n",
       "      <td>1867994</td>\n",
       "      <td>2016-10-21 00:07:42</td>\n",
       "    </tr>\n",
       "    <tr>\n",
       "      <th>1</th>\n",
       "      <td>1867994</td>\n",
       "      <td>2016-10-21 00:07:42</td>\n",
       "    </tr>\n",
       "    <tr>\n",
       "      <th>2</th>\n",
       "      <td>1867994</td>\n",
       "      <td>2016-10-21 00:07:42</td>\n",
       "    </tr>\n",
       "    <tr>\n",
       "      <th>3</th>\n",
       "      <td>1867994</td>\n",
       "      <td>2016-10-21 00:07:42</td>\n",
       "    </tr>\n",
       "    <tr>\n",
       "      <th>4</th>\n",
       "      <td>1867994</td>\n",
       "      <td>2016-10-21 00:07:42</td>\n",
       "    </tr>\n",
       "  </tbody>\n",
       "</table>\n",
       "</div>"
      ],
      "text/plain": [
       "   order_id          created_at\n",
       "0   1867994 2016-10-21 00:07:42\n",
       "1   1867994 2016-10-21 00:07:42\n",
       "2   1867994 2016-10-21 00:07:42\n",
       "3   1867994 2016-10-21 00:07:42\n",
       "4   1867994 2016-10-21 00:07:42"
      ]
     },
     "execution_count": 15,
     "metadata": {},
     "output_type": "execute_result"
    }
   ],
   "source": [
    "order_date_df = df.filter(['order_id', 'created_at'])\n",
    "order_date_df.head()"
   ]
  },
  {
   "cell_type": "code",
   "execution_count": 16,
   "metadata": {},
   "outputs": [
    {
     "name": "stdout",
     "output_type": "stream",
     "text": [
      "9769375\n"
     ]
    }
   ],
   "source": [
    "order_id_2_date = dict(zip(order_date_df.order_id, order_date_df.created_at))\n",
    "print(len(order_id_2_date))\n",
    "del order_date_df"
   ]
  },
  {
   "cell_type": "markdown",
   "metadata": {},
   "source": [
    "# Parallelizing Dataframe operations"
   ]
  },
  {
   "cell_type": "code",
   "execution_count": 17,
   "metadata": {},
   "outputs": [],
   "source": [
    "from multiprocessing import Pool\n",
    "import numpy as np\n",
    "\n",
    "def parallelize_dataframe(df, func, num_partitions, num_cores):\n",
    "    df_split = np.array_split(df, num_partitions)\n",
    "    pool = Pool(num_cores)\n",
    "    df = pd.concat(pool.map(func, df_split))\n",
    "    pool.close()\n",
    "    pool.join()\n",
    "    return df"
   ]
  },
  {
   "cell_type": "markdown",
   "metadata": {},
   "source": [
    "# Preparing child to parent dict for products"
   ]
  },
  {
   "cell_type": "code",
   "execution_count": 18,
   "metadata": {},
   "outputs": [],
   "source": [
    "query = \"select child_id, parent_id from catalog_product_relation\"\n",
    "\n",
    "rows = Utils.fetchResultsInBatch(Utils.nykaaMysqlConnection(), query, 50000)\n",
    "child_2_parent = {row[0]: row[1] for row in rows}"
   ]
  },
  {
   "cell_type": "code",
   "execution_count": 19,
   "metadata": {},
   "outputs": [],
   "source": [
    "with open(\"child_product_2_parent.json\", \"r+\") as f:\n",
    "    child_2_parent.update({int(key): int(value) for key, value in json.load(f).items()})"
   ]
  },
  {
   "cell_type": "code",
   "execution_count": 20,
   "metadata": {},
   "outputs": [],
   "source": [
    "def convert_2_parent_product(data):\n",
    "    data['product_id'] = data.apply(lambda row: child_2_parent.get(row['product_id'], row['product_id']), axis=1)\n",
    "    return data"
   ]
  },
  {
   "cell_type": "code",
   "execution_count": 21,
   "metadata": {},
   "outputs": [],
   "source": [
    "df = parallelize_dataframe(df, convert_2_parent_product, 40, 16)"
   ]
  },
  {
   "cell_type": "markdown",
   "metadata": {},
   "source": [
    "# Removing duplicate products from an order"
   ]
  },
  {
   "cell_type": "code",
   "execution_count": 22,
   "metadata": {},
   "outputs": [],
   "source": [
    "df = df.filter(['customer_id', 'order_id', 'product_id'])"
   ]
  },
  {
   "cell_type": "code",
   "execution_count": 23,
   "metadata": {},
   "outputs": [],
   "source": [
    "df['product_count'] = 1"
   ]
  },
  {
   "cell_type": "code",
   "execution_count": 24,
   "metadata": {},
   "outputs": [],
   "source": [
    "df = df.groupby(['customer_id', 'order_id', 'product_id']).agg({'product_count': 'count'}).reset_index()"
   ]
  },
  {
   "cell_type": "code",
   "execution_count": 25,
   "metadata": {},
   "outputs": [
    {
     "data": {
      "text/plain": [
       "33430418"
      ]
     },
     "execution_count": 25,
     "metadata": {},
     "output_type": "execute_result"
    }
   ],
   "source": [
    "len(df)"
   ]
  },
  {
   "cell_type": "code",
   "execution_count": 26,
   "metadata": {},
   "outputs": [],
   "source": [
    "df = df.drop(['product_count'], axis=1)"
   ]
  },
  {
   "cell_type": "code",
   "execution_count": 27,
   "metadata": {},
   "outputs": [
    {
     "data": {
      "text/html": [
       "<div>\n",
       "<style scoped>\n",
       "    .dataframe tbody tr th:only-of-type {\n",
       "        vertical-align: middle;\n",
       "    }\n",
       "\n",
       "    .dataframe tbody tr th {\n",
       "        vertical-align: top;\n",
       "    }\n",
       "\n",
       "    .dataframe thead th {\n",
       "        text-align: right;\n",
       "    }\n",
       "</style>\n",
       "<table border=\"1\" class=\"dataframe\">\n",
       "  <thead>\n",
       "    <tr style=\"text-align: right;\">\n",
       "      <th></th>\n",
       "      <th>customer_id</th>\n",
       "      <th>order_id</th>\n",
       "      <th>product_id</th>\n",
       "    </tr>\n",
       "  </thead>\n",
       "  <tbody>\n",
       "    <tr>\n",
       "      <th>0</th>\n",
       "      <td>20</td>\n",
       "      <td>3558386</td>\n",
       "      <td>28977</td>\n",
       "    </tr>\n",
       "    <tr>\n",
       "      <th>1</th>\n",
       "      <td>20</td>\n",
       "      <td>8018927</td>\n",
       "      <td>76415</td>\n",
       "    </tr>\n",
       "    <tr>\n",
       "      <th>2</th>\n",
       "      <td>20</td>\n",
       "      <td>8018927</td>\n",
       "      <td>216526</td>\n",
       "    </tr>\n",
       "    <tr>\n",
       "      <th>3</th>\n",
       "      <td>20</td>\n",
       "      <td>9255244</td>\n",
       "      <td>68705</td>\n",
       "    </tr>\n",
       "    <tr>\n",
       "      <th>4</th>\n",
       "      <td>20</td>\n",
       "      <td>9255244</td>\n",
       "      <td>255369</td>\n",
       "    </tr>\n",
       "  </tbody>\n",
       "</table>\n",
       "</div>"
      ],
      "text/plain": [
       "   customer_id  order_id  product_id\n",
       "0           20   3558386       28977\n",
       "1           20   8018927       76415\n",
       "2           20   8018927      216526\n",
       "3           20   9255244       68705\n",
       "4           20   9255244      255369"
      ]
     },
     "execution_count": 27,
     "metadata": {},
     "output_type": "execute_result"
    }
   ],
   "source": [
    "df.head()"
   ]
  },
  {
   "cell_type": "markdown",
   "metadata": {},
   "source": [
    "# Adding is_luxe field to data"
   ]
  },
  {
   "cell_type": "markdown",
   "metadata": {},
   "source": [
    "First extracting out all the luxe products"
   ]
  },
  {
   "cell_type": "code",
   "execution_count": null,
   "metadata": {},
   "outputs": [],
   "source": [
    "import sys\n",
    "sys.path.append(\"/nykaa/api\")\n",
    "from pas.v2.utils import Utils\n",
    "\n",
    "unique_product_ids = list(map(lambda x: int(x), list(df['product_id'].unique())))\n",
    "es_query = {\n",
    "    \"query\": {\n",
    "        \"bool\": {\n",
    "            \"must\": [\n",
    "                {\"term\": {\"is_luxe\": True}},\n",
    "                {\"terms\": {\"product_id.keyword\": unique_product_ids}}\n",
    "            ]\n",
    "        }\n",
    "    },\n",
    "    \"_source\": [\"product_id\"]\n",
    "}\n",
    "\n",
    "es_conn = Utils.esConn()\n",
    "scroll_id = None\n",
    "luxe_products = []\n",
    "while True:\n",
    "    if not scroll_id:\n",
    "        response = es_conn.search(index='livecore', body=es_query, scroll='25m')\n",
    "    else:\n",
    "        response = es_conn.scroll(scroll_id=scroll_id, scroll='25m')\n",
    "        \n",
    "    if not response['hits']['hits']:\n",
    "        break\n",
    "      \n",
    "    scroll_id = response['_scroll_id']\n",
    "    luxe_products += [int(hit['_source']['product_id']) for hit in response['hits']['hits']]\n",
    "    \n",
    "luxe_products_dict = {int(product_id): True for product_id in luxe_products}"
   ]
  },
  {
   "cell_type": "code",
   "execution_count": null,
   "metadata": {},
   "outputs": [],
   "source": [
    "luxe_products_dict[10839]"
   ]
  },
  {
   "cell_type": "markdown",
   "metadata": {},
   "source": [
    "Now adding the field extracted"
   ]
  },
  {
   "cell_type": "code",
   "execution_count": null,
   "metadata": {},
   "outputs": [],
   "source": [
    "df['is_luxe'] = df['product_id'].apply(lambda x: luxe_products_dict[int(x)] if luxe_products_dict.get(int(x)) else False)"
   ]
  },
  {
   "cell_type": "code",
   "execution_count": null,
   "metadata": {},
   "outputs": [],
   "source": [
    "df.head()"
   ]
  },
  {
   "cell_type": "code",
   "execution_count": null,
   "metadata": {},
   "outputs": [],
   "source": [
    "df[df['is_luxe'] == True].head()"
   ]
  },
  {
   "cell_type": "markdown",
   "metadata": {},
   "source": [
    "# Writing to CSV File"
   ]
  },
  {
   "cell_type": "code",
   "execution_count": 28,
   "metadata": {},
   "outputs": [],
   "source": [
    "df.to_csv('cab_6_july.csv', encoding='utf-8', index=False)"
   ]
  },
  {
   "cell_type": "code",
   "execution_count": null,
   "metadata": {},
   "outputs": [],
   "source": [
    "count_query = \"select count(*) from sales_flat_order_item_archive where mrp is NULL;\"\n",
    "cursor.execute(count_query)\n",
    "row = cursor.fetchone()"
   ]
  },
  {
   "cell_type": "code",
   "execution_count": null,
   "metadata": {},
   "outputs": [],
   "source": [
    "row"
   ]
  },
  {
   "cell_type": "code",
   "execution_count": null,
   "metadata": {},
   "outputs": [],
   "source": [
    "nykaadb = Utils.nykaaMysqlConnection()\n",
    "cursor = nykaadb.cursor()\n",
    "count_query = \"select count(*) from sales_flat_order_item where parent_item_id is null and order_id <> 0 and mrp=0;\"\n",
    "cursor.execute(count_query)\n",
    "row = cursor.fetchone()\n",
    "row"
   ]
  },
  {
   "cell_type": "code",
   "execution_count": null,
   "metadata": {},
   "outputs": [],
   "source": []
  }
 ],
 "metadata": {
  "kernelspec": {
   "display_name": "Python 3",
   "language": "python",
   "name": "python3"
  },
  "language_info": {
   "codemirror_mode": {
    "name": "ipython",
    "version": 3
   },
   "file_extension": ".py",
   "mimetype": "text/x-python",
   "name": "python",
   "nbconvert_exporter": "python",
   "pygments_lexer": "ipython3",
   "version": "3.6.4"
  }
 },
 "nbformat": 4,
 "nbformat_minor": 2
}
