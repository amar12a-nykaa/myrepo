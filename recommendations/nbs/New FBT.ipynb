{
 "cells": [
  {
   "cell_type": "code",
   "execution_count": 1,
   "metadata": {},
   "outputs": [],
   "source": [
    "import os\n",
    "import sys\n",
    "\n",
    "\n",
    "# Import SparkSession\n",
    "from pyspark.sql import SparkSession\n",
    "\n",
    "# Build the SparkSession\n",
    "spark = SparkSession.builder \\\n",
    "    .master(\"local[10]\") \\\n",
    "    .appName(\"FBT\") \\\n",
    "    .config(\"spark.executor.memory\", \"6G\") \\\n",
    "    .config(\"spark.storage.memoryFraction\", 0.2) \\\n",
    "    .config(\"spark.driver.memory\", \"16G\") \\\n",
    "    .getOrCreate()\n",
    "   \n",
    "sc = spark.sparkContext"
   ]
  },
  {
   "cell_type": "code",
   "execution_count": 2,
   "metadata": {},
   "outputs": [
    {
     "data": {
      "text/plain": [
       "[('spark.storage.memoryFraction', '0.2'),\n",
       " ('spark.driver.memory', '16G'),\n",
       " ('spark.executor.memory', '6G'),\n",
       " ('spark.driver.port', '39975'),\n",
       " ('spark.rdd.compress', 'True'),\n",
       " ('spark.driver.host', '172.31.5.36'),\n",
       " ('spark.serializer.objectStreamReset', '100'),\n",
       " ('spark.app.id', 'local-1530945810816'),\n",
       " ('spark.master', 'local[10]'),\n",
       " ('spark.executor.id', 'driver'),\n",
       " ('spark.app.name', 'FBT'),\n",
       " ('spark.submit.deployMode', 'client')]"
      ]
     },
     "execution_count": 2,
     "metadata": {},
     "output_type": "execute_result"
    }
   ],
   "source": [
    "sc.getConf().getAll()"
   ]
  },
  {
   "cell_type": "code",
   "execution_count": 3,
   "metadata": {},
   "outputs": [],
   "source": [
    "from pyspark.sql.types import StructType, StructField, IntegerType, StringType\n",
    "\n",
    "schema = StructType([\n",
    "    StructField(\"order_id\", IntegerType(), True),\n",
    "    StructField(\"product_id\", IntegerType(), True)])"
   ]
  },
  {
   "cell_type": "code",
   "execution_count": 4,
   "metadata": {},
   "outputs": [
    {
     "data": {
      "text/plain": [
       "37498790"
      ]
     },
     "execution_count": 4,
     "metadata": {},
     "output_type": "execute_result"
    }
   ],
   "source": [
    "df = spark.read.load(\"fbt_without_categories_6_july.csv\", header=True, format=\"csv\", schema=schema).cache();\n",
    "df.count()"
   ]
  },
  {
   "cell_type": "code",
   "execution_count": 5,
   "metadata": {},
   "outputs": [
    {
     "name": "stdout",
     "output_type": "stream",
     "text": [
      "+--------+----------+\n",
      "|order_id|product_id|\n",
      "+--------+----------+\n",
      "|  386449|       885|\n",
      "|  386449|     16985|\n",
      "|  386449|     19632|\n",
      "|  386449|     19637|\n",
      "|  386450|      3062|\n",
      "|  386450|      8666|\n",
      "|  386450|     18659|\n",
      "|  386451|       809|\n",
      "|  386451|     18584|\n",
      "|  386452|      7633|\n",
      "+--------+----------+\n",
      "only showing top 10 rows\n",
      "\n"
     ]
    }
   ],
   "source": [
    "df.show(10)"
   ]
  },
  {
   "cell_type": "code",
   "execution_count": 6,
   "metadata": {},
   "outputs": [],
   "source": [
    "df = df.groupBy(['order_id', 'product_id']).agg({'product_id': 'count'}).drop('count(product_id)')"
   ]
  },
  {
   "cell_type": "code",
   "execution_count": 7,
   "metadata": {},
   "outputs": [
    {
     "name": "stderr",
     "output_type": "stream",
     "text": [
      "/home/ubuntu/anaconda3/lib/python3.6/site-packages/matplotlib/__init__.py:1067: UserWarning: Duplicate key in file \"/home/ubuntu/.config/matplotlib/matplotlibrc\", line #2\n",
      "  (fname, cnt))\n",
      "/home/ubuntu/anaconda3/lib/python3.6/site-packages/matplotlib/__init__.py:1067: UserWarning: Duplicate key in file \"/home/ubuntu/.config/matplotlib/matplotlibrc\", line #3\n",
      "  (fname, cnt))\n"
     ]
    }
   ],
   "source": [
    "product_2_orders_cnt_df = df.groupBy(['product_id']).agg({'order_id': 'count'}).withColumnRenamed('count(order_id)', 'orders_cnt').toPandas()\n",
    "product_2_orders_cnt = dict(zip(product_2_orders_cnt_df.product_id, product_2_orders_cnt_df.orders_cnt))"
   ]
  },
  {
   "cell_type": "code",
   "execution_count": 8,
   "metadata": {},
   "outputs": [
    {
     "data": {
      "text/plain": [
       "65285"
      ]
     },
     "execution_count": 8,
     "metadata": {},
     "output_type": "execute_result"
    }
   ],
   "source": [
    "unique_products = [row['product_id'] for row in df.select('product_id').distinct().collect()]\n",
    "len(unique_products)"
   ]
  },
  {
   "cell_type": "code",
   "execution_count": 9,
   "metadata": {},
   "outputs": [
    {
     "data": {
      "text/plain": [
       "204466446"
      ]
     },
     "execution_count": 9,
     "metadata": {},
     "output_type": "execute_result"
    }
   ],
   "source": [
    "merged_df = df.withColumnRenamed('product_id', 'product_id_x').join(df.withColumnRenamed('product_id', 'product_id_y'), on='order_id', how='inner')\n",
    "merged_df.count()"
   ]
  },
  {
   "cell_type": "code",
   "execution_count": null,
   "metadata": {},
   "outputs": [],
   "source": [
    "merged_df.show(10)"
   ]
  },
  {
   "cell_type": "code",
   "execution_count": 10,
   "metadata": {},
   "outputs": [
    {
     "data": {
      "text/plain": [
       "83483828"
      ]
     },
     "execution_count": 10,
     "metadata": {},
     "output_type": "execute_result"
    }
   ],
   "source": [
    "merged_df = merged_df.filter('product_id_x < product_id_y')\n",
    "merged_df.count()"
   ]
  },
  {
   "cell_type": "code",
   "execution_count": 11,
   "metadata": {},
   "outputs": [
    {
     "data": {
      "text/plain": [
       "14120673"
      ]
     },
     "execution_count": 11,
     "metadata": {},
     "output_type": "execute_result"
    }
   ],
   "source": [
    "merged_df = merged_df.groupBy(['product_id_x', 'product_id_y']).agg({'order_id': 'count'}).withColumnRenamed('count(order_id)', 'orders_intersection')\n",
    "merged_df.count()"
   ]
  },
  {
   "cell_type": "code",
   "execution_count": null,
   "metadata": {},
   "outputs": [],
   "source": [
    "merged_df.show(10)"
   ]
  },
  {
   "cell_type": "code",
   "execution_count": 12,
   "metadata": {},
   "outputs": [],
   "source": [
    "final_df = merged_df"
   ]
  },
  {
   "cell_type": "markdown",
   "metadata": {},
   "source": [
    "# Using Histogram for visualizing products that are removed from FBT table when using different threshold"
   ]
  },
  {
   "cell_type": "code",
   "execution_count": 13,
   "metadata": {},
   "outputs": [],
   "source": [
    "import matplotlib.pyplot as plt\n",
    "\n",
    "data = {}\n",
    "for i in range(1, 10, 1):\n",
    "    _df = final_df[final_df['orders_intersection'] >= i]\n",
    "    _unique_products_x = [row['product_id_x'] for row in _df.select('product_id_x').distinct().collect()]\n",
    "    _unique_products_y = [row['product_id_y'] for row in _df.select('product_id_y').distinct().collect()]\n",
    "    _unique_products = set(_unique_products_x + _unique_products_y)\n",
    "    data[i] = len(_unique_products)"
   ]
  },
  {
   "cell_type": "code",
   "execution_count": 14,
   "metadata": {},
   "outputs": [
    {
     "data": {
      "image/png": "[encoded data removed]",
      "text/plain": [
       "<Figure size 1440x720 with 1 Axes>"
      ]
     },
     "metadata": {},
     "output_type": "display_data"
    }
   ],
   "source": [
    "plt.figure(figsize=(20,10))\n",
    "plt.xlabel('Threshold of orderss common for products to be similar')\n",
    "plt.ylabel('No of products having recommendations')\n",
    "plt.bar(range(len(data)), data.values(), align='center')\n",
    "plt.xticks(range(len(data)), list(data.keys()))\n",
    "\n",
    "plt.show()"
   ]
  },
  {
   "cell_type": "markdown",
   "metadata": {},
   "source": [
    "Using orders threshold of 2 for products to be similar"
   ]
  },
  {
   "cell_type": "code",
   "execution_count": 15,
   "metadata": {},
   "outputs": [],
   "source": [
    "final_df = final_df[final_df['orders_intersection'] >= 2]"
   ]
  },
  {
   "cell_type": "code",
   "execution_count": 16,
   "metadata": {},
   "outputs": [
    {
     "data": {
      "text/plain": [
       "6144634"
      ]
     },
     "execution_count": 16,
     "metadata": {},
     "output_type": "execute_result"
    }
   ],
   "source": [
    "final_df.count()"
   ]
  },
  {
   "cell_type": "markdown",
   "metadata": {},
   "source": [
    "# Computing orders Union and different similarities"
   ]
  },
  {
   "cell_type": "code",
   "execution_count": 17,
   "metadata": {},
   "outputs": [],
   "source": [
    "from pyspark.sql.functions import udf\n",
    "from pyspark.sql.types import IntegerType\n",
    "\n",
    "def compute_orders_union_len(product_id_x, product_id_y, orders_intersection):\n",
    "     return product_2_orders_cnt[product_id_x] + product_2_orders_cnt[product_id_y] - orders_intersection\n",
    "\n",
    "compute_orders_union_len_udf = udf(compute_orders_union_len, IntegerType())\n",
    "final_df = final_df.withColumn(\"orders_union\", compute_orders_union_len_udf(final_df['product_id_x'], final_df['product_id_y'], final_df['orders_intersection']))"
   ]
  },
  {
   "cell_type": "code",
   "execution_count": 18,
   "metadata": {},
   "outputs": [],
   "source": [
    "from pyspark.sql.functions import udf\n",
    "from pyspark.sql.types import FloatType\n",
    "\n",
    "def compute_direct_similarity(orders_intersection, orders_union):\n",
    "     return orders_intersection/orders_union\n",
    "\n",
    "compute_direct_similarity_udf = udf(compute_direct_similarity, FloatType())\n",
    "final_df = final_df.withColumn(\"direct_similarity\", compute_direct_similarity_udf(final_df['orders_intersection'], final_df['orders_union']))"
   ]
  },
  {
   "cell_type": "code",
   "execution_count": 19,
   "metadata": {},
   "outputs": [],
   "source": [
    "from pyspark.sql.functions import udf\n",
    "from pyspark.sql.types import FloatType\n",
    "import math\n",
    "\n",
    "def compute_log_similarity(orders_intersection, parent_id, similar_product_id):\n",
    "     return orders_intersection/product_2_orders_cnt[parent_id]/math.log(product_2_orders_cnt[similar_product_id])\n",
    "\n",
    "compute_log_similarity_udf = udf(compute_log_similarity, FloatType())\n",
    "final_df = final_df.withColumn(\"log_similarity_y_x\", compute_log_similarity_udf(final_df['orders_intersection'], final_df['product_id_x'], final_df['product_id_y']))\n",
    "final_df = final_df.withColumn(\"log_similarity_x_y\", compute_log_similarity_udf(final_df['orders_intersection'], final_df['product_id_y'], final_df['product_id_x']))"
   ]
  },
  {
   "cell_type": "code",
   "execution_count": 20,
   "metadata": {},
   "outputs": [],
   "source": [
    "from pyspark.sql.functions import udf\n",
    "from pyspark.sql.types import FloatType\n",
    "import math\n",
    "\n",
    "def compute_sqrt_similarity(orders_intersection, parent_id, similar_product_id):\n",
    "     return orders_intersection/product_2_orders_cnt[parent_id]/math.sqrt(product_2_orders_cnt[similar_product_id])\n",
    "\n",
    "compute_sqrt_similarity_udf = udf(compute_sqrt_similarity, FloatType())\n",
    "final_df = final_df.withColumn(\"sqrt_similarity_y_x\", compute_sqrt_similarity_udf(final_df['orders_intersection'], final_df['product_id_x'], final_df['product_id_y']))\n",
    "final_df = final_df.withColumn(\"sqrt_similarity_x_y\", compute_sqrt_similarity_udf(final_df['orders_intersection'], final_df['product_id_y'], final_df['product_id_x']))"
   ]
  },
  {
   "cell_type": "markdown",
   "metadata": {},
   "source": [
    "# Get Recommendations function"
   ]
  },
  {
   "cell_type": "code",
   "execution_count": null,
   "metadata": {},
   "outputs": [],
   "source": [
    "from pyspark.sql import SQLContext\n",
    "\n",
    "import sys\n",
    "sys.path.append(\"/nykaa/api\")\n",
    "from pas.v2.utils import Utils\n",
    "\n",
    "sqlContext = SQLContext(sc)\n",
    "final_df.createOrReplaceTempView(\"final_df\")\n",
    "\n",
    "def get_recommendations(product_id, recommendations_cnt=10, with_name=True, algo='coccurence_direct'):\n",
    "    if variant == 'coccurence_log':\n",
    "        order_by = 'log_similarity'\n",
    "    elif variant == 'coccurence_sqrt':\n",
    "        order_by = 'sqrt_similarity'\n",
    "    elif variant == 'coccurence_direct':\n",
    "        order_by = 'direct_similarity'\n",
    "    else:\n",
    "        order_by = 'orders_intersection'\n",
    "        \n",
    "    rows = sqlContext.sql(\"SELECT * FROM final_df WHERE product_id_x=%d OR product_id_y=%d ORDER BY %s DESC LIMIT %d\" % (product_id, product_id, order_by, recommendations_cnt)).collect()\n",
    "    recommendation_ids = []\n",
    "    for row in rows:\n",
    "        if row['product_id_x'] == product_id:\n",
    "            recommendation_ids.append(row['product_id_y'])\n",
    "        else:\n",
    "            recommendation_ids.append(row['product_id_x'])\n",
    "    if not with_name:\n",
    "        return recommendation_ids\n",
    "    query = {\n",
    "        \"query\": {\n",
    "            \"terms\": {\"product_id.keyword\": recommendation_ids}\n",
    "        },\n",
    "        \"_source\": ['title_text_split', 'product_id']\n",
    "    }\n",
    "    \n",
    "    response = Utils.makeESRequest(query, index='livecore')\n",
    "    product_id_2_name = {int(hit['_source']['product_id']): hit['_source']['title_text_split'] for hit in response['hits']['hits']}\n",
    "    return [(recommendation_id, product_id_2_name.get(recommendation_id)) for recommendation_id in recommendation_ids]"
   ]
  },
  {
   "cell_type": "markdown",
   "metadata": {},
   "source": [
    "# Preparing dictionary of similar products"
   ]
  },
  {
   "cell_type": "code",
   "execution_count": 24,
   "metadata": {},
   "outputs": [],
   "source": [
    "from collections import defaultdict\n",
    "\n",
    "simple_similar_products_dict = defaultdict(lambda: [])\n",
    "direct_similar_products_dict = defaultdict(lambda: [])\n",
    "log_similar_products_dict = defaultdict(lambda: [])\n",
    "sqrt_similar_products_dict = defaultdict(lambda: [])\n",
    "\n",
    "for row in final_df.collect():\n",
    "    simple_similar_products_dict[row['product_id_x']].append((row['product_id_y'], row['orders_intersection']))\n",
    "    simple_similar_products_dict[row['product_id_y']].append((row['product_id_x'], row['orders_intersection']))\n",
    "    \n",
    "    direct_similar_products_dict[row['product_id_x']].append((row['product_id_y'], row['direct_similarity']))\n",
    "    direct_similar_products_dict[row['product_id_y']].append((row['product_id_x'], row['direct_similarity']))\n",
    "    \n",
    "    log_similar_products_dict[row['product_id_x']].append((row['product_id_y'], row['log_similarity_y_x']))\n",
    "    log_similar_products_dict[row['product_id_y']].append((row['product_id_x'], row['log_similarity_x_y']))\n",
    "    \n",
    "    sqrt_similar_products_dict[row['product_id_x']].append((row['product_id_y'], row['sqrt_similarity_y_x']))\n",
    "    sqrt_similar_products_dict[row['product_id_y']].append((row['product_id_x'], row['sqrt_similarity_x_y']))"
   ]
  },
  {
   "cell_type": "markdown",
   "metadata": {},
   "source": [
    "# Adding Data to MYSQL"
   ]
  },
  {
   "cell_type": "code",
   "execution_count": 25,
   "metadata": {},
   "outputs": [
    {
     "name": "stdout",
     "output_type": "stream",
     "text": [
      "44205\n",
      "CPU times: user 31.7 s, sys: 148 ms, total: 31.9 s\n",
      "Wall time: 48.5 s\n"
     ]
    }
   ],
   "source": [
    "%%time\n",
    "import sys\n",
    "sys.path.append('/nykaa/api')\n",
    "from pas.v2.utils import Utils\n",
    "\n",
    "pasdb = Utils.mysqlConnection('w')\n",
    "cursor = pasdb.cursor()\n",
    "\n",
    "create_recommendations_table_query = \"\"\" CREATE TABLE IF NOT EXISTS recommendations_v2 (\n",
    "                            entity_id INT UNSIGNED NOT NULL, \n",
    "                            entity_type VARCHAR(50),\n",
    "                            recommendation_type VARCHAR(50),\n",
    "                            algo VARCHAR(50),\n",
    "                            recommended_products_json JSON,\n",
    "                            PRIMARY KEY (entity_id, entity_type, recommendation_type, algo)\n",
    "                            )\n",
    "\"\"\"\n",
    "cursor.execute(create_recommendations_table_query)\n",
    "\n",
    "def add_recommendations_in_mysql(db, cursor, rows):\n",
    "    values_str = \", \".join([\"(%s, %s, %s, %s, %s)\" for i in range(len(rows))])\n",
    "    values = tuple([_i for row in rows for _i in row])\n",
    "    insert_recommendations_query = \"\"\" INSERT INTO recommendations_v2(entity_id, entity_type, recommendation_type, algo, recommended_products_json)\n",
    "            VALUES %s ON DUPLICATE KEY UPDATE recommended_products_json=VALUES(recommended_products_json)\n",
    "    \"\"\" % values_str\n",
    "    values = tuple([str(_i) for row in rows for _i in row])\n",
    "    cursor.execute(insert_recommendations_query, values)\n",
    "    db.commit()\n",
    "    \n",
    "rows = []\n",
    "products_count = 0\n",
    "for product_id in unique_products:\n",
    "    if not simple_similar_products_dict[product_id]:\n",
    "        continue\n",
    "\n",
    "    simple_similar_products = list(map(lambda e: e[0], sorted(simple_similar_products_dict[product_id], key=lambda e: e[1], reverse=True)[:20]))\n",
    "    direct_similar_products = list(map(lambda e: e[0], sorted(direct_similar_products_dict[product_id], key=lambda e: e[1], reverse=True)[:20]))\n",
    "    log_similar_products = list(map(lambda e: e[0], sorted(log_similar_products_dict[product_id], key=lambda e: e[1], reverse=True)[:20]))\n",
    "    sqrt_similar_products = list(map(lambda e: e[0], sorted(sqrt_similar_products_dict[product_id], key=lambda e: e[1], reverse=True)[:20]))\n",
    "\n",
    "    rows.append((product_id, 'product', 'fbt', 'coccurence_simple', str(simple_similar_products)))\n",
    "    rows.append((product_id, 'product', 'fbt', 'coccurence_direct', str(direct_similar_products)))\n",
    "    rows.append((product_id, 'product', 'fbt', 'coccurence_log', str(log_similar_products)))\n",
    "    rows.append((product_id, 'product', 'fbt', 'coccurence_sqrt', str(sqrt_similar_products)))\n",
    "    products_count += 1\n",
    "    if len(rows) == 40:\n",
    "        add_recommendations_in_mysql(pasdb, cursor, rows)\n",
    "        rows = []\n",
    "        \n",
    "add_recommendations_in_mysql(pasdb, cursor, rows)\n",
    "\n",
    "cursor.close()\n",
    "pasdb.close()\n",
    "print(products_count)"
   ]
  },
  {
   "cell_type": "markdown",
   "metadata": {},
   "source": [
    "# Writing data for simple variants from configurable products using mysql"
   ]
  },
  {
   "cell_type": "code",
   "execution_count": 26,
   "metadata": {},
   "outputs": [
    {
     "name": "stdout",
     "output_type": "stream",
     "text": [
      "146156\n",
      "CPU times: user 55.3 s, sys: 1.02 s, total: 56.3 s\n",
      "Wall time: 2min 28s\n"
     ]
    }
   ],
   "source": [
    "%%time\n",
    "import json\n",
    "\n",
    "nykaadb = Utils.nykaaMysqlConnection()\n",
    "nykaa_cursor = nykaadb.cursor()\n",
    "query = \"select parent_id, child_id from catalog_product_relation\"\n",
    "nykaa_cursor.execute(query) \n",
    "\n",
    "parent_2_children = defaultdict(lambda: [])\n",
    "for row in nykaa_cursor.fetchall():\n",
    "    parent_2_children[row[0]].append(row[1])\n",
    "        \n",
    "with open(\"child_product_2_parent.json\", \"r+\") as f:\n",
    "    for key, value in json.load(f).items():\n",
    "        parent_2_children[int(value)].append(int(key))\n",
    "\n",
    "pasdb = Utils.mysqlConnection('w')\n",
    "cursor = pasdb.cursor()\n",
    "products_count = 0\n",
    "for parent, variants in parent_2_children.items():\n",
    "    if not simple_similar_products_dict[parent]:\n",
    "        continue\n",
    "    simple_similar_products = list(map(lambda e: e[0], sorted(simple_similar_products_dict[parent], key=lambda e: e[1], reverse=True)[:50]))\n",
    "    direct_similar_products = list(map(lambda e: e[0], sorted(direct_similar_products_dict[parent], key=lambda e: e[1], reverse=True)[:50]))\n",
    "    log_similar_products = list(map(lambda e: e[0], sorted(log_similar_products_dict[parent], key=lambda e: e[1], reverse=True)[:50]))\n",
    "    sqrt_similar_products = list(map(lambda e: e[0], sorted(sqrt_similar_products_dict[parent], key=lambda e: e[1], reverse=True)[:50]))\n",
    "\n",
    "    rows = []\n",
    "    for variant in variants:\n",
    "        rows.append((variant, 'product', 'fbt', 'coccurence_simple', str(simple_similar_products)))\n",
    "        rows.append((variant, 'product', 'fbt', 'coccurence_direct', str(direct_similar_products)))\n",
    "        rows.append((variant, 'product', 'fbt', 'coccurence_log', str(log_similar_products)))\n",
    "        rows.append((variant, 'product', 'fbt', 'coccurence_sqrt', str(sqrt_similar_products)))\n",
    "        products_count += 1\n",
    "    \n",
    "    add_recommendations_in_mysql(pasdb, cursor, rows)\n",
    "\n",
    "nykaa_cursor.close()\n",
    "nykaadb.close()\n",
    "\n",
    "cursor.close()\n",
    "pasdb.close() \n",
    "print(products_count)"
   ]
  },
  {
   "cell_type": "markdown",
   "metadata": {},
   "source": [
    "# Writing data for variants of configurable products using ES"
   ]
  },
  {
   "cell_type": "code",
   "execution_count": null,
   "metadata": {},
   "outputs": [],
   "source": [
    "import json\n",
    "pasdb = Utils.mysqlConnection('w')\n",
    "cursor = pasdb.cursor()\n",
    "\n",
    "es_query = {\n",
    "    \"query\": { \n",
    "        \"bool\": {\n",
    "            \"must\": [\n",
    "                {\"term\": {\"type.keyword\": \"configurable\"}},\n",
    "                {\"exists\": {\"field\": \"variants\"}}\n",
    "            ]\n",
    "        } \n",
    "    },\n",
    "    \"_source\": [\"product_id\", \"variants\"],\n",
    "    \"size\": 200\n",
    "}\n",
    "\n",
    "es_conn = Utils.esConn()\n",
    "scroll_id = None\n",
    "added_for_count = 0\n",
    "no_of_products_added = 0\n",
    "while True:\n",
    "    if not scroll_id:\n",
    "        response = es_conn.search(index='livecore', body=es_query, scroll='5m')\n",
    "    else:\n",
    "        response = es_conn.scroll(scroll_id=scroll_id, scroll='5m')\n",
    "        \n",
    "    if not response['hits']['hits']:\n",
    "        break\n",
    "        \n",
    "    print(\"Processing \" + str(len(response['hits']['hits'])) + \" configurable products\")\n",
    "    batch_product_ids = [hit['_source']['product_id'] for hit in response['hits']['hits']]\n",
    "    scroll_id = response['_scroll_id']\n",
    "    select_query = \"SELECT product_id, algo, bought_with_json FROM fbt WHERE product_id IN (\" + \", \".join(batch_product_ids) + \")\"\n",
    "    cursor.execute(select_query)\n",
    "    \n",
    "    product_to_recommendations = {(str(row[0]) + row[1]): row[2] for row in cursor.fetchall()}\n",
    "    \n",
    "    for algo in ['coccurence_simple', 'coccurence_direct', 'coccurence_log', 'coccurence_sqrt']:\n",
    "        for hit in response['hits']['hits']:\n",
    "            product_id = hit['_source']['product_id']\n",
    "\n",
    "            if not product_to_recommendations.get(product_id + algo):\n",
    "                print(\"No recommendation for product %s %s\" % (product_id, algo))\n",
    "                continue\n",
    "            added_for_count += 1\n",
    "            variants = json.loads(hit['_source']['variants'])\n",
    "            variant_ids = [ele['id'] for key, values in variants.items() for ele in values]\n",
    "            no_of_products_added += len(variant_ids)\n",
    "            values_str = \", \".join([\"(%s, %s, %s)\" for i in range(len(variant_ids))])\n",
    "            values = []\n",
    "            for variant_id in variant_ids:\n",
    "                values += [variant_id, algo, product_to_recommendations[product_id + algo]]\n",
    "            insert_recommendations_query = \"\"\" INSERT INTO fbt(product_id, algo, bought_with_json)\n",
    "                VALUES %s ON DUPLICATE KEY UPDATE bought_with_json=VALUES(bought_with_json);\n",
    "            \"\"\" % values_str\n",
    "            cursor.execute(insert_recommendations_query, values)\n",
    "            pasdb.commit()\n",
    "\n",
    "cursor.close()\n",
    "pasdb.close()  \n",
    "\n",
    "print(\"Added for %s\" % added_for_count)\n",
    "print (\"No of products added %s\" % no_of_products_added)"
   ]
  },
  {
   "cell_type": "code",
   "execution_count": null,
   "metadata": {},
   "outputs": [],
   "source": []
  }
 ],
 "metadata": {
  "kernelspec": {
   "display_name": "Python 3",
   "language": "python",
   "name": "python3"
  },
  "language_info": {
   "codemirror_mode": {
    "name": "ipython",
    "version": 3
   },
   "file_extension": ".py",
   "mimetype": "text/x-python",
   "name": "python",
   "nbconvert_exporter": "python",
   "pygments_lexer": "ipython3",
   "version": "3.6.4"
  }
 },
 "nbformat": 4,
 "nbformat_minor": 2
}
