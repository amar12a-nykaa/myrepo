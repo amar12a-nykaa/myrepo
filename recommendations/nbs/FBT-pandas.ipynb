{
 "cells": [
  {
   "cell_type": "code",
   "execution_count": 4,
   "metadata": {},
   "outputs": [
    {
     "name": "stderr",
     "output_type": "stream",
     "text": [
      "/home/ubuntu/anaconda3/lib/python3.6/site-packages/matplotlib/__init__.py:1067: UserWarning: Duplicate key in file \"/home/ubuntu/.config/matplotlib/matplotlibrc\", line #2\n",
      "  (fname, cnt))\n",
      "/home/ubuntu/anaconda3/lib/python3.6/site-packages/matplotlib/__init__.py:1067: UserWarning: Duplicate key in file \"/home/ubuntu/.config/matplotlib/matplotlibrc\", line #3\n",
      "  (fname, cnt))\n"
     ]
    }
   ],
   "source": [
    "import pandas as pd"
   ]
  },
  {
   "cell_type": "code",
   "execution_count": 5,
   "metadata": {},
   "outputs": [],
   "source": [
    "df = pd.read_csv(\"fbt_orders_data_with_archive_without_categories.csv\")"
   ]
  },
  {
   "cell_type": "code",
   "execution_count": 6,
   "metadata": {},
   "outputs": [
    {
     "data": {
      "text/html": [
       "<div>\n",
       "<style scoped>\n",
       "    .dataframe tbody tr th:only-of-type {\n",
       "        vertical-align: middle;\n",
       "    }\n",
       "\n",
       "    .dataframe tbody tr th {\n",
       "        vertical-align: top;\n",
       "    }\n",
       "\n",
       "    .dataframe thead th {\n",
       "        text-align: right;\n",
       "    }\n",
       "</style>\n",
       "<table border=\"1\" class=\"dataframe\">\n",
       "  <thead>\n",
       "    <tr style=\"text-align: right;\">\n",
       "      <th></th>\n",
       "      <th>order_id</th>\n",
       "      <th>product_id</th>\n",
       "    </tr>\n",
       "  </thead>\n",
       "  <tbody>\n",
       "    <tr>\n",
       "      <th>0</th>\n",
       "      <td>720719</td>\n",
       "      <td>18516</td>\n",
       "    </tr>\n",
       "    <tr>\n",
       "      <th>1</th>\n",
       "      <td>720719</td>\n",
       "      <td>12125</td>\n",
       "    </tr>\n",
       "    <tr>\n",
       "      <th>2</th>\n",
       "      <td>768913</td>\n",
       "      <td>6048</td>\n",
       "    </tr>\n",
       "    <tr>\n",
       "      <th>3</th>\n",
       "      <td>811337</td>\n",
       "      <td>30103</td>\n",
       "    </tr>\n",
       "    <tr>\n",
       "      <th>4</th>\n",
       "      <td>840816</td>\n",
       "      <td>31362</td>\n",
       "    </tr>\n",
       "  </tbody>\n",
       "</table>\n",
       "</div>"
      ],
      "text/plain": [
       "   order_id  product_id\n",
       "0    720719       18516\n",
       "1    720719       12125\n",
       "2    768913        6048\n",
       "3    811337       30103\n",
       "4    840816       31362"
      ]
     },
     "execution_count": 6,
     "metadata": {},
     "output_type": "execute_result"
    }
   ],
   "source": [
    "df.head()"
   ]
  },
  {
   "cell_type": "code",
   "execution_count": 7,
   "metadata": {},
   "outputs": [],
   "source": [
    "df['product_count'] = 1\n",
    "df = df.groupby(['order_id', 'product_id']).agg({'product_count' : 'sum'}).reset_index()"
   ]
  },
  {
   "cell_type": "code",
   "execution_count": 8,
   "metadata": {},
   "outputs": [],
   "source": [
    "df.drop(['product_count'], axis=1, inplace=True)"
   ]
  },
  {
   "cell_type": "markdown",
   "metadata": {},
   "source": [
    "Computing Product To Order Count"
   ]
  },
  {
   "cell_type": "code",
   "execution_count": 9,
   "metadata": {},
   "outputs": [
    {
     "data": {
      "text/html": [
       "<div>\n",
       "<style scoped>\n",
       "    .dataframe tbody tr th:only-of-type {\n",
       "        vertical-align: middle;\n",
       "    }\n",
       "\n",
       "    .dataframe tbody tr th {\n",
       "        vertical-align: top;\n",
       "    }\n",
       "\n",
       "    .dataframe thead th {\n",
       "        text-align: right;\n",
       "    }\n",
       "</style>\n",
       "<table border=\"1\" class=\"dataframe\">\n",
       "  <thead>\n",
       "    <tr style=\"text-align: right;\">\n",
       "      <th></th>\n",
       "      <th>product_id</th>\n",
       "      <th>order_id</th>\n",
       "    </tr>\n",
       "  </thead>\n",
       "  <tbody>\n",
       "    <tr>\n",
       "      <th>0</th>\n",
       "      <td>248</td>\n",
       "      <td>1</td>\n",
       "    </tr>\n",
       "    <tr>\n",
       "      <th>1</th>\n",
       "      <td>249</td>\n",
       "      <td>13</td>\n",
       "    </tr>\n",
       "    <tr>\n",
       "      <th>2</th>\n",
       "      <td>250</td>\n",
       "      <td>16290</td>\n",
       "    </tr>\n",
       "    <tr>\n",
       "      <th>3</th>\n",
       "      <td>251</td>\n",
       "      <td>50</td>\n",
       "    </tr>\n",
       "    <tr>\n",
       "      <th>4</th>\n",
       "      <td>252</td>\n",
       "      <td>115</td>\n",
       "    </tr>\n",
       "  </tbody>\n",
       "</table>\n",
       "</div>"
      ],
      "text/plain": [
       "   product_id  order_id\n",
       "0         248         1\n",
       "1         249        13\n",
       "2         250     16290\n",
       "3         251        50\n",
       "4         252       115"
      ]
     },
     "execution_count": 9,
     "metadata": {},
     "output_type": "execute_result"
    }
   ],
   "source": [
    "product_2_orders_cnt_df = df.groupby(['product_id']).agg({'order_id':'count'}).reset_index()\n",
    "product_2_orders_cnt_df.head()"
   ]
  },
  {
   "cell_type": "code",
   "execution_count": 10,
   "metadata": {},
   "outputs": [],
   "source": [
    "product_2_orders_cnt = dict(zip(product_2_orders_cnt_df.product_id, product_2_orders_cnt_df.order_id))"
   ]
  },
  {
   "cell_type": "code",
   "execution_count": 11,
   "metadata": {},
   "outputs": [
    {
     "data": {
      "text/plain": [
       "66453"
      ]
     },
     "execution_count": 11,
     "metadata": {},
     "output_type": "execute_result"
    }
   ],
   "source": [
    "unique_products = list(df['product_id'].unique())\n",
    "len(unique_products)"
   ]
  },
  {
   "cell_type": "markdown",
   "metadata": {},
   "source": [
    "Processing data in batches"
   ]
  },
  {
   "cell_type": "code",
   "execution_count": 12,
   "metadata": {},
   "outputs": [
    {
     "data": {
      "text/plain": [
       "29610444"
      ]
     },
     "execution_count": 12,
     "metadata": {},
     "output_type": "execute_result"
    }
   ],
   "source": [
    "df_len = len(df)\n",
    "df_len"
   ]
  },
  {
   "cell_type": "code",
   "execution_count": 13,
   "metadata": {},
   "outputs": [
    {
     "name": "stdout",
     "output_type": "stream",
     "text": [
      "Started processing data from offset 0 till 4999999\n",
      "Started processing data from offset 5000000 till 9999999\n",
      "Started processing data from offset 10000000 till 14999999\n",
      "Started processing data from offset 15000000 till 19999999\n",
      "Started processing data from offset 20000000 till 24999999\n",
      "Started processing data from offset 25000000 till 29610443\n"
     ]
    }
   ],
   "source": [
    "BATCH_SIZE = 5000000\n",
    "offset = 0\n",
    "final_df = pd.DataFrame([])\n",
    "\n",
    "while offset < df_len:\n",
    "    last_idx = offset + BATCH_SIZE if offset + BATCH_SIZE < df_len else df_len\n",
    "    print(\"Started processing data from offset %d till %d\" % (offset, last_idx-1))\n",
    "    temp_df = df[offset:last_idx]\n",
    "    temp_df = pd.merge(temp_df, temp_df, on='order_id', how='inner')\n",
    "    temp_df = temp_df[temp_df['product_id_x'] < temp_df['product_id_y']].reset_index(drop=True)\n",
    "    temp_df = temp_df.drop('order_id', axis=1)\n",
    "    temp_df['order_count'] = 1\n",
    "    temp_df = temp_df.groupby(['product_id_x', 'product_id_y']).agg({'order_count':'sum'}).reset_index()\n",
    "    final_df = final_df.append(temp_df)\n",
    "    final_df = final_df.groupby(['product_id_x', 'product_id_y']).agg({'order_count':'sum'}).reset_index()\n",
    "    offset = last_idx\n"
   ]
  },
  {
   "cell_type": "code",
   "execution_count": 14,
   "metadata": {},
   "outputs": [
    {
     "data": {
      "text/plain": [
       "11849477"
      ]
     },
     "execution_count": 14,
     "metadata": {},
     "output_type": "execute_result"
    }
   ],
   "source": [
    "len(final_df)"
   ]
  },
  {
   "cell_type": "markdown",
   "metadata": {},
   "source": [
    "# Using Histogram for visualizing products that are removed from FBT table when using different threshold"
   ]
  },
  {
   "cell_type": "code",
   "execution_count": 15,
   "metadata": {},
   "outputs": [],
   "source": [
    "import matplotlib.pyplot as plt\n",
    "\n",
    "data = {}\n",
    "for i in range(1,50,1):\n",
    "        temp_df = final_df[final_df['order_count'] >= i]\n",
    "        unique_products = set(list(temp_df['product_id_x'].unique()) + list(temp_df['product_id_y'].unique()))\n",
    "        data[i] = len(unique_products)"
   ]
  },
  {
   "cell_type": "code",
   "execution_count": 16,
   "metadata": {},
   "outputs": [
    {
     "data": {
      "image/png": "[encoded data removed]",
      "text/plain": [
       "<Figure size 1440x720 with 1 Axes>"
      ]
     },
     "metadata": {},
     "output_type": "display_data"
    }
   ],
   "source": [
    "plt.figure(figsize=(20,10))\n",
    "plt.xlabel('Threshold of orders common for products to be similar')\n",
    "plt.ylabel('No of products having recommendations')\n",
    "plt.bar(range(len(data)), data.values(), align='center')\n",
    "plt.xticks(range(len(data)), list(data.keys()))\n",
    "\n",
    "plt.show()"
   ]
  },
  {
   "cell_type": "markdown",
   "metadata": {},
   "source": [
    "Using orders threshold of 2 for products to be similar"
   ]
  },
  {
   "cell_type": "code",
   "execution_count": 17,
   "metadata": {},
   "outputs": [],
   "source": [
    "final_df = final_df[final_df['order_count'] >= 2]"
   ]
  },
  {
   "cell_type": "code",
   "execution_count": 18,
   "metadata": {},
   "outputs": [
    {
     "data": {
      "text/plain": [
       "4951218"
      ]
     },
     "execution_count": 18,
     "metadata": {},
     "output_type": "execute_result"
    }
   ],
   "source": [
    "len(final_df)"
   ]
  },
  {
   "cell_type": "markdown",
   "metadata": {},
   "source": [
    "Parallizing dataframe operations"
   ]
  },
  {
   "cell_type": "code",
   "execution_count": 19,
   "metadata": {},
   "outputs": [],
   "source": [
    "from multiprocessing import Pool\n",
    "import numpy as np\n",
    "\n",
    "def parallelize_dataframe(df, func, num_partitions, num_cores):\n",
    "    df_split = np.array_split(df, num_partitions)\n",
    "    pool = Pool(num_cores)\n",
    "    df = pd.concat(pool.map(func, df_split))\n",
    "    pool.close()\n",
    "    pool.join()\n",
    "    return df"
   ]
  },
  {
   "cell_type": "markdown",
   "metadata": {},
   "source": [
    "# Computing orders Union and different similarities"
   ]
  },
  {
   "cell_type": "code",
   "execution_count": 20,
   "metadata": {},
   "outputs": [],
   "source": [
    "def compute_orders_union_len(data):\n",
    "    data['order_union'] = data.apply(lambda row : product_2_orders_cnt[row['product_id_x']] + product_2_orders_cnt[row['product_id_y']] - row['order_count'], axis=1)\n",
    "    return data\n",
    "final_df = parallelize_dataframe(final_df, compute_orders_union_len, 40, 16)"
   ]
  },
  {
   "cell_type": "code",
   "execution_count": 21,
   "metadata": {},
   "outputs": [],
   "source": [
    "import math \n",
    "\n",
    "def compute_similarity(data):\n",
    "    data['direct_similarity'] = data.apply(lambda row: row['order_count']/row['order_union'], axis=1)\n",
    "    data['log_similarity'] = data.apply(lambda row: row['order_count']/math.log(row['order_union']), axis=1)\n",
    "    data['sqrt_similarity'] = data.apply(lambda row: row['order_count']/math.sqrt(row['order_union']), axis=1)\n",
    "    return data\n",
    "\n",
    "final_df = parallelize_dataframe(final_df, compute_similarity, 40, 16)"
   ]
  },
  {
   "cell_type": "code",
   "execution_count": 22,
   "metadata": {},
   "outputs": [
    {
     "data": {
      "text/html": [
       "<div>\n",
       "<style scoped>\n",
       "    .dataframe tbody tr th:only-of-type {\n",
       "        vertical-align: middle;\n",
       "    }\n",
       "\n",
       "    .dataframe tbody tr th {\n",
       "        vertical-align: top;\n",
       "    }\n",
       "\n",
       "    .dataframe thead th {\n",
       "        text-align: right;\n",
       "    }\n",
       "</style>\n",
       "<table border=\"1\" class=\"dataframe\">\n",
       "  <thead>\n",
       "    <tr style=\"text-align: right;\">\n",
       "      <th></th>\n",
       "      <th>product_id_x</th>\n",
       "      <th>product_id_y</th>\n",
       "      <th>order_intersection</th>\n",
       "      <th>order_union</th>\n",
       "      <th>direct_similarity</th>\n",
       "      <th>log_similarity</th>\n",
       "      <th>sqrt_similarity</th>\n",
       "    </tr>\n",
       "  </thead>\n",
       "  <tbody>\n",
       "    <tr>\n",
       "      <th>6</th>\n",
       "      <td>249</td>\n",
       "      <td>252</td>\n",
       "      <td>5</td>\n",
       "      <td>123</td>\n",
       "      <td>0.040650</td>\n",
       "      <td>1.039029</td>\n",
       "      <td>0.450835</td>\n",
       "    </tr>\n",
       "    <tr>\n",
       "      <th>7</th>\n",
       "      <td>249</td>\n",
       "      <td>1295</td>\n",
       "      <td>2</td>\n",
       "      <td>24</td>\n",
       "      <td>0.083333</td>\n",
       "      <td>0.629316</td>\n",
       "      <td>0.408248</td>\n",
       "    </tr>\n",
       "    <tr>\n",
       "      <th>11</th>\n",
       "      <td>249</td>\n",
       "      <td>19914</td>\n",
       "      <td>4</td>\n",
       "      <td>443</td>\n",
       "      <td>0.009029</td>\n",
       "      <td>0.656430</td>\n",
       "      <td>0.190046</td>\n",
       "    </tr>\n",
       "    <tr>\n",
       "      <th>13</th>\n",
       "      <td>249</td>\n",
       "      <td>76006</td>\n",
       "      <td>2</td>\n",
       "      <td>366</td>\n",
       "      <td>0.005464</td>\n",
       "      <td>0.338832</td>\n",
       "      <td>0.104542</td>\n",
       "    </tr>\n",
       "    <tr>\n",
       "      <th>14</th>\n",
       "      <td>249</td>\n",
       "      <td>134149</td>\n",
       "      <td>2</td>\n",
       "      <td>1225</td>\n",
       "      <td>0.001633</td>\n",
       "      <td>0.281266</td>\n",
       "      <td>0.057143</td>\n",
       "    </tr>\n",
       "  </tbody>\n",
       "</table>\n",
       "</div>"
      ],
      "text/plain": [
       "    product_id_x  product_id_y  order_intersection  order_union  \\\n",
       "6            249           252                   5          123   \n",
       "7            249          1295                   2           24   \n",
       "11           249         19914                   4          443   \n",
       "13           249         76006                   2          366   \n",
       "14           249        134149                   2         1225   \n",
       "\n",
       "    direct_similarity  log_similarity  sqrt_similarity  \n",
       "6            0.040650        1.039029         0.450835  \n",
       "7            0.083333        0.629316         0.408248  \n",
       "11           0.009029        0.656430         0.190046  \n",
       "13           0.005464        0.338832         0.104542  \n",
       "14           0.001633        0.281266         0.057143  "
      ]
     },
     "execution_count": 22,
     "metadata": {},
     "output_type": "execute_result"
    }
   ],
   "source": [
    "final_df.rename(index=str, columns={'order_count':'order_intersection'}, inplace=True)\n",
    "final_df.head()"
   ]
  },
  {
   "cell_type": "markdown",
   "metadata": {},
   "source": [
    "# Get Recommendations function"
   ]
  },
  {
   "cell_type": "markdown",
   "metadata": {},
   "source": [
    "Compute Recommendation"
   ]
  },
  {
   "cell_type": "code",
   "execution_count": 23,
   "metadata": {},
   "outputs": [],
   "source": [
    "import sys\n",
    "sys.path.append(\"/nykaa/api\")\n",
    "from pas.v2.utils import Utils\n",
    "\n",
    "def get_recommendations(product_id, recommendations_cnt=10, with_name=True, algo='coccurence_direct'):\n",
    "    if algo == 'coccurence_log':\n",
    "        temp_df = final_df[(final_df['product_id_x'] == product_id)  | (final_df['product_id_y'] == product_id)].sort_values(['log_similarity'], ascending=[0])\n",
    "    elif algo == 'coccurence_sqrt':\n",
    "        temp_df = final_df[(final_df['product_id_x'] == product_id)  | (final_df['product_id_y'] == product_id)].sort_values(['sqrt_similarity'], ascending=[0])\n",
    "    elif algo == 'coccurence_direct':\n",
    "        temp_df = final_df[(final_df['product_id_x'] == product_id)  | (final_df['product_id_y'] == product_id)].sort_values(['direct_similarity'], ascending=[0])\n",
    "    else:\n",
    "        temp_df = final_df[(final_df['product_id_x'] == product_id)  | (final_df['product_id_y'] == product_id)].sort_values(['order_intersection'], ascending=[0])\n",
    "    rows = temp_df.values.tolist()\n",
    "    recommendation_ids = []\n",
    "    for row in rows:\n",
    "        if row[0] == product_id:\n",
    "            recommendation_ids.append(row[1])\n",
    "        elif row[1] == product_id:\n",
    "            recommendation_ids.append(row[0])\n",
    "    recommendation_ids = recommendation_ids[:recommendations_cnt]\n",
    "    if not with_name:\n",
    "        return recommendation_ids\n",
    "    query = {\n",
    "        \"query\": {\n",
    "            \"terms\": {\"product_id.keyword\": recommendation_ids}\n",
    "        },\n",
    "        \"_source\": ['title_text_split', 'product_id']\n",
    "    }\n",
    "    response = Utils.makeESRequest(query, index='livecore')\n",
    "    product_id_2_name = {int(hit['_source']['product_id']):hit['_source']['title_text_split'] for hit in response['hits']['hits']}\n",
    "    return [(recommendation_id, product_id_2_name[recommendation_id]) for recommendation_id in recommendation_ids]"
   ]
  },
  {
   "cell_type": "code",
   "execution_count": 24,
   "metadata": {},
   "outputs": [],
   "source": [
    "final_df.to_csv('fbt_item_similarity.csv', encoding='utf-8', index=False)"
   ]
  },
  {
   "cell_type": "markdown",
   "metadata": {},
   "source": [
    "# Preparing dictionary of similar products"
   ]
  },
  {
   "cell_type": "code",
   "execution_count": 25,
   "metadata": {},
   "outputs": [
    {
     "data": {
      "text/html": [
       "<div>\n",
       "<style scoped>\n",
       "    .dataframe tbody tr th:only-of-type {\n",
       "        vertical-align: middle;\n",
       "    }\n",
       "\n",
       "    .dataframe tbody tr th {\n",
       "        vertical-align: top;\n",
       "    }\n",
       "\n",
       "    .dataframe thead th {\n",
       "        text-align: right;\n",
       "    }\n",
       "</style>\n",
       "<table border=\"1\" class=\"dataframe\">\n",
       "  <thead>\n",
       "    <tr style=\"text-align: right;\">\n",
       "      <th></th>\n",
       "      <th>product_id_x</th>\n",
       "      <th>product_id_y</th>\n",
       "      <th>order_intersection</th>\n",
       "      <th>order_union</th>\n",
       "      <th>direct_similarity</th>\n",
       "      <th>log_similarity</th>\n",
       "      <th>sqrt_similarity</th>\n",
       "    </tr>\n",
       "  </thead>\n",
       "  <tbody>\n",
       "    <tr>\n",
       "      <th>6</th>\n",
       "      <td>249</td>\n",
       "      <td>252</td>\n",
       "      <td>5</td>\n",
       "      <td>123</td>\n",
       "      <td>0.040650</td>\n",
       "      <td>1.039029</td>\n",
       "      <td>0.450835</td>\n",
       "    </tr>\n",
       "    <tr>\n",
       "      <th>7</th>\n",
       "      <td>249</td>\n",
       "      <td>1295</td>\n",
       "      <td>2</td>\n",
       "      <td>24</td>\n",
       "      <td>0.083333</td>\n",
       "      <td>0.629316</td>\n",
       "      <td>0.408248</td>\n",
       "    </tr>\n",
       "    <tr>\n",
       "      <th>11</th>\n",
       "      <td>249</td>\n",
       "      <td>19914</td>\n",
       "      <td>4</td>\n",
       "      <td>443</td>\n",
       "      <td>0.009029</td>\n",
       "      <td>0.656430</td>\n",
       "      <td>0.190046</td>\n",
       "    </tr>\n",
       "    <tr>\n",
       "      <th>13</th>\n",
       "      <td>249</td>\n",
       "      <td>76006</td>\n",
       "      <td>2</td>\n",
       "      <td>366</td>\n",
       "      <td>0.005464</td>\n",
       "      <td>0.338832</td>\n",
       "      <td>0.104542</td>\n",
       "    </tr>\n",
       "    <tr>\n",
       "      <th>14</th>\n",
       "      <td>249</td>\n",
       "      <td>134149</td>\n",
       "      <td>2</td>\n",
       "      <td>1225</td>\n",
       "      <td>0.001633</td>\n",
       "      <td>0.281266</td>\n",
       "      <td>0.057143</td>\n",
       "    </tr>\n",
       "  </tbody>\n",
       "</table>\n",
       "</div>"
      ],
      "text/plain": [
       "    product_id_x  product_id_y  order_intersection  order_union  \\\n",
       "6            249           252                   5          123   \n",
       "7            249          1295                   2           24   \n",
       "11           249         19914                   4          443   \n",
       "13           249         76006                   2          366   \n",
       "14           249        134149                   2         1225   \n",
       "\n",
       "    direct_similarity  log_similarity  sqrt_similarity  \n",
       "6            0.040650        1.039029         0.450835  \n",
       "7            0.083333        0.629316         0.408248  \n",
       "11           0.009029        0.656430         0.190046  \n",
       "13           0.005464        0.338832         0.104542  \n",
       "14           0.001633        0.281266         0.057143  "
      ]
     },
     "execution_count": 25,
     "metadata": {},
     "output_type": "execute_result"
    }
   ],
   "source": [
    "final_df.head()"
   ]
  },
  {
   "cell_type": "code",
   "execution_count": 26,
   "metadata": {},
   "outputs": [],
   "source": [
    "from collections import defaultdict\n",
    "\n",
    "simple_similar_products_dict = {}\n",
    "direct_similar_products_dict = {}\n",
    "log_similar_products_dict = {}\n",
    "sqrt_similar_products_dict = {}\n",
    "\n",
    "for row in final_df.values.tolist():\n",
    "    if not row[0] in simple_similar_products_dict:\n",
    "        simple_similar_products_dict[row[0]] = [] \n",
    "    if not row[1] in simple_similar_products_dict:\n",
    "        simple_similar_products_dict[row[1]] = []\n",
    "    \n",
    "    if not row[0] in direct_similar_products_dict:\n",
    "        direct_similar_products_dict[row[0]] = [] \n",
    "    if not row[1] in direct_similar_products_dict:\n",
    "        direct_similar_products_dict[row[1]] = []\n",
    "        \n",
    "    if not row[0] in log_similar_products_dict:\n",
    "        log_similar_products_dict[row[0]] = [] \n",
    "    if not row[1] in log_similar_products_dict:\n",
    "        log_similar_products_dict[row[1]] = []\n",
    "        \n",
    "    if not row[0] in sqrt_similar_products_dict:\n",
    "        sqrt_similar_products_dict[row[0]] = [] \n",
    "    if not row[1] in sqrt_similar_products_dict:\n",
    "        sqrt_similar_products_dict[row[1]] = []\n",
    "        \n",
    "    \n",
    "    simple_similar_products_dict[row[0]].append((row[1], row[2]))\n",
    "    simple_similar_products_dict[row[1]].append((row[0], row[2]))\n",
    "    \n",
    "    direct_similar_products_dict[row[0]].append((row[1], row[4]))\n",
    "    direct_similar_products_dict[row[1]].append((row[0], row[4]))\n",
    "    \n",
    "    log_similar_products_dict[row[0]].append((row[1], row[5]))\n",
    "    log_similar_products_dict[row[1]].append((row[0], row[5]))\n",
    "    \n",
    "    sqrt_similar_products_dict[row[0]].append((row[1], row[6]))\n",
    "    sqrt_similar_products_dict[row[1]].append((row[0], row[6]))"
   ]
  },
  {
   "cell_type": "markdown",
   "metadata": {},
   "source": [
    "# Adding Data to MYSQL"
   ]
  },
  {
   "cell_type": "code",
   "execution_count": 27,
   "metadata": {},
   "outputs": [
    {
     "name": "stdout",
     "output_type": "stream",
     "text": [
      "CPU times: user 0 ns, sys: 4 ms, total: 4 ms\n",
      "Wall time: 79.3 ms\n"
     ]
    }
   ],
   "source": [
    "%%time\n",
    "import sys\n",
    "sys.path.append('/nykaa/api')\n",
    "from pas.v2.utils import Utils\n",
    "\n",
    "pasdb = Utils.mysqlConnection('w')\n",
    "cursor = pasdb.cursor()\n",
    "\n",
    "create_recommendations_table_query = \"\"\"create table if not exists recommendations_fbt_panda (\n",
    "                        entity_id int unsigned not null,\n",
    "                        entity_type varchar(50),\n",
    "                        recommendation_type varchar(50),\n",
    "                        algo varchar(50),\n",
    "                        recommended_products_json JSON,\n",
    "                        PRIMARY KEY (entity_id, entity_type, recommendation_type, algo)\n",
    "                    )\n",
    "\"\"\"\n",
    "\n",
    "cursor.execute(create_recommendations_table_query)\n",
    "\n",
    "def add_recommendations_in_mysql(db, cursor, rows):\n",
    "    values_str = \", \".join([\"(%s, %s, %s, %s, %s)\" for i in range(len(rows))])\n",
    "    values = tuple([str(data) for row in rows for data in row])\n",
    "    insert_recommendations_query = \"\"\"insert into recommendations_fbt_panda(entity_id, entity_type, \n",
    "                recommendation_type, algo, recommended_products_json) values %s on duplicate key \n",
    "                update recommended_products_json = values(recommended_products_json)\n",
    "    \"\"\" %values_str\n",
    "    cursor.execute(insert_recommendations_query, values)\n",
    "    db.commit()"
   ]
  },
  {
   "cell_type": "code",
   "execution_count": 46,
   "metadata": {},
   "outputs": [
    {
     "name": "stdout",
     "output_type": "stream",
     "text": [
      "6222\n",
      "CPU times: user 13.8 s, sys: 36 ms, total: 13.9 s\n",
      "Wall time: 16.4 s\n"
     ]
    }
   ],
   "source": [
    "%%time\n",
    "import sys\n",
    "sys.path.append('/nykaa/api')\n",
    "from pas.v2.utils import Utils\n",
    "\n",
    "pasdb = Utils.mysqlConnection('w')\n",
    "cursor = pasdb.cursor()\n",
    "\n",
    "rows = []\n",
    "products_count = 0\n",
    "\n",
    "for product_id in unique_products:\n",
    "    if not simple_similar_products_dict[product_id]:\n",
    "        continue\n",
    "    simple_similar_products = list(map(lambda e:e[0], sorted(simple_similar_products_dict[product_id],key=lambda e:e[1],reverse=True)[:20]))\n",
    "    direct_similar_products = list(map(lambda e:e[0], sorted(direct_similar_products_dict[product_id],key=lambda e:e[1],reverse=True)[:20]))\n",
    "    log_similar_products = list(map(lambda e:e[0], sorted(log_similar_products_dict[product_id],key=lambda e:e[1],reverse=True)[:20]))\n",
    "    sqrt_similar_products = list(map(lambda e:e[0], sorted(sqrt_similar_products_dict[product_id],key=lambda e:e[1],reverse=True)[:20]))\n",
    "   \n",
    "    rows.append((product_id,'product','fbt','coccurence_simple',str(simple_similar_products)))\n",
    "    rows.append((product_id,'product','fbt','coccurence_direct',str(direct_similar_products)))\n",
    "    rows.append((product_id,'product','fbt','coccurence_log',str(log_similar_products)))\n",
    "    rows.append((product_id,'product','fbt','coccurence_sqrt',str(sqrt_similar_products)))\n",
    "    \n",
    "    products_count += 1\n",
    "    if len(rows) == 40:\n",
    "        add_recommendations_in_mysql(pasdb, cursor, rows)\n",
    "        rows = []\n",
    "add_recommendations_in_mysql(pasdb, cursor, rows)\n",
    "\n",
    "cursor.close()\n",
    "pasdb.close()\n",
    "print(products_count)"
   ]
  },
  {
   "cell_type": "markdown",
   "metadata": {},
   "source": [
    "# Writing data for simple variants from configurable products using mysql"
   ]
  },
  {
   "cell_type": "code",
   "execution_count": 53,
   "metadata": {},
   "outputs": [
    {
     "name": "stdout",
     "output_type": "stream",
     "text": [
      "124267\n"
     ]
    }
   ],
   "source": [
    "%%time\n",
    "import json\n",
    "\n",
    "nykaadb = Utils.nykaaMysqlConnection()\n",
    "nykaa_cursor = nykaadb.cursor()\n",
    "query = \"select parent_id, child_id from catalog_product_relation\"\n",
    "nykaa_cursor.execute(query) \n",
    "\n",
    "parent_2_children = {}\n",
    "for row in nykaa_cursor.fetchall():\n",
    "    if not row[0] in parent_2_children:\n",
    "        parent_2_children[row[0]] = []\n",
    "    parent_2_children[row[0]].append(row[1])\n",
    "\n",
    "with open(\"child_product_2_parent.json\", \"r+\") as f:\n",
    "    for key, value in json.load(f).items():\n",
    "        value = int(value)\n",
    "        if not value in parent_2_children:\n",
    "            parent_2_children[value] = []\n",
    "        parent_2_children[value].append(int(key))\n",
    "\n",
    "pasdb = Utils.mysqlConnection('w')\n",
    "cursor = pasdb.cursor()\n",
    "products_count = 0\n",
    "for parent, variants in parent_2_children.items():\n",
    "    if not parent in simple_similar_products_dict:\n",
    "        continue\n",
    "    simple_similar_products = list(map(lambda e: e[0], sorted(simple_similar_products_dict[parent], key=lambda e: e[1], reverse=True)[:50]))\n",
    "    direct_similar_products = list(map(lambda e: e[0], sorted(direct_similar_products_dict[parent], key=lambda e: e[1], reverse=True)[:50]))\n",
    "    log_similar_products = list(map(lambda e: e[0], sorted(log_similar_products_dict[parent], key=lambda e: e[1], reverse=True)[:50]))\n",
    "    sqrt_similar_products = list(map(lambda e: e[0], sorted(sqrt_similar_products_dict[parent], key=lambda e: e[1], reverse=True)[:50]))\n",
    "\n",
    "    rows = []\n",
    "    for variant in variants:\n",
    "        rows.append((variant, 'product', 'fbt', 'coccurence_simple', str(simple_similar_products)))\n",
    "        rows.append((variant, 'product', 'fbt', 'coccurence_direct', str(direct_similar_products)))\n",
    "        rows.append((variant, 'product', 'fbt', 'coccurence_log', str(log_similar_products)))\n",
    "        rows.append((variant, 'product', 'fbt', 'coccurence_sqrt', str(sqrt_similar_products)))\n",
    "        products_count += 1\n",
    "    \n",
    "    add_recommendations_in_mysql(pasdb, cursor, rows)\n",
    "\n",
    "nykaa_cursor.close()\n",
    "nykaadb.close()\n",
    "\n",
    "cursor.close()\n",
    "pasdb.close() \n",
    "print(products_count)"
   ]
  },
  {
   "cell_type": "markdown",
   "metadata": {},
   "source": [
    "# Writing data for variants of configurable products using ES"
   ]
  },
  {
   "cell_type": "code",
   "execution_count": null,
   "metadata": {},
   "outputs": [],
   "source": []
  }
 ],
 "metadata": {
  "kernelspec": {
   "display_name": "Python 3",
   "language": "python",
   "name": "python3"
  },
  "language_info": {
   "codemirror_mode": {
    "name": "ipython",
    "version": 3
   },
   "file_extension": ".py",
   "mimetype": "text/x-python",
   "name": "python",
   "nbconvert_exporter": "python",
   "pygments_lexer": "ipython3",
   "version": "3.6.4"
  }
 },
 "nbformat": 4,
 "nbformat_minor": 2
}
